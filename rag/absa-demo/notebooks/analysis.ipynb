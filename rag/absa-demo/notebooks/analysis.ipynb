{
 "cells": [
  {
   "cell_type": "markdown",
   "metadata": {},
   "source": [
    "#### Setup\n",
    "\n",
    "Be sure to setup the `OPENAI_API_KEY` environment variable before running this notebook."
   ]
  },
  {
   "cell_type": "code",
   "execution_count": 3,
   "metadata": {},
   "outputs": [],
   "source": [
    "import os \n",
    "import logging\n",
    "import sys\n",
    "\n",
    "# Setup OPENAI_API_KEY\n",
    "\n",
    "os.environ[\"OPENAI_API_KEY\"] = \"\"\n",
    "\n",
    "# Setup logging\n",
    "\n",
    "log = logging.getLogger(__name__)\n",
    "logging.basicConfig(format=\"%(asctime)s | %(levelname)s | %(message)s\", level=logging.INFO)\n",
    "\n",
    "# Update sys.path (or use PYTHONPATH)\n",
    "\n",
    "sys.path.insert(0, '..')"
   ]
  },
  {
   "cell_type": "markdown",
   "metadata": {},
   "source": [
    "#### Read feedbacks\n",
    "\n",
    "Let's read the feedback data scraped previously using the `scraping.ipynb` notebook."
   ]
  },
  {
   "cell_type": "code",
   "execution_count": 4,
   "metadata": {},
   "outputs": [
    {
     "data": {
      "text/html": [
       "<div>\n",
       "<style scoped>\n",
       "    .dataframe tbody tr th:only-of-type {\n",
       "        vertical-align: middle;\n",
       "    }\n",
       "\n",
       "    .dataframe tbody tr th {\n",
       "        vertical-align: top;\n",
       "    }\n",
       "\n",
       "    .dataframe thead th {\n",
       "        text-align: right;\n",
       "    }\n",
       "</style>\n",
       "<table border=\"1\" class=\"dataframe\">\n",
       "  <thead>\n",
       "    <tr style=\"text-align: right;\">\n",
       "      <th></th>\n",
       "      <th>title</th>\n",
       "      <th>rating</th>\n",
       "      <th>text</th>\n",
       "    </tr>\n",
       "  </thead>\n",
       "  <tbody>\n",
       "    <tr>\n",
       "      <th>0</th>\n",
       "      <td>This Sucker SUCKS!</td>\n",
       "      <td>5</td>\n",
       "      <td>I just received this vacuum a few hours ago, b...</td>\n",
       "    </tr>\n",
       "    <tr>\n",
       "      <th>1</th>\n",
       "      <td>Worth the money, does what it says it will.</td>\n",
       "      <td>5</td>\n",
       "      <td>My older vacuum was also a Bissell, a Bissell ...</td>\n",
       "    </tr>\n",
       "    <tr>\n",
       "      <th>2</th>\n",
       "      <td>Best vacuum for the price!</td>\n",
       "      <td>5</td>\n",
       "      <td>I am absolutely amazed with this vacuum, I’m a...</td>\n",
       "    </tr>\n",
       "    <tr>\n",
       "      <th>3</th>\n",
       "      <td>Mostly Fantastic. Awesome performance.</td>\n",
       "      <td>5</td>\n",
       "      <td>My old vac broke. I bought a Shark but when it...</td>\n",
       "    </tr>\n",
       "    <tr>\n",
       "      <th>4</th>\n",
       "      <td>Extreme suction</td>\n",
       "      <td>5</td>\n",
       "      <td>I vacum at least 3 times a week if not more! I...</td>\n",
       "    </tr>\n",
       "  </tbody>\n",
       "</table>\n",
       "</div>"
      ],
      "text/plain": [
       "                                         title rating  \\\n",
       "0                           This Sucker SUCKS!      5   \n",
       "1  Worth the money, does what it says it will.      5   \n",
       "2                   Best vacuum for the price!      5   \n",
       "3       Mostly Fantastic. Awesome performance.      5   \n",
       "4                              Extreme suction      5   \n",
       "\n",
       "                                                text  \n",
       "0  I just received this vacuum a few hours ago, b...  \n",
       "1  My older vacuum was also a Bissell, a Bissell ...  \n",
       "2  I am absolutely amazed with this vacuum, I’m a...  \n",
       "3  My old vac broke. I bought a Shark but when it...  \n",
       "4  I vacum at least 3 times a week if not more! I...  "
      ]
     },
     "execution_count": 4,
     "metadata": {},
     "output_type": "execute_result"
    }
   ],
   "source": [
    "import pandas as pd\n",
    "\n",
    "df = pd.read_csv(\"./feedbacks.csv\").dropna()\n",
    "\n",
    "df.head()"
   ]
  },
  {
   "cell_type": "markdown",
   "metadata": {},
   "source": [
    "#### Filter & Sampling\n",
    "\n",
    "For simplicity, we will keep only the feedbacks that have less than 300 chars and sample 15 items."
   ]
  },
  {
   "cell_type": "code",
   "execution_count": 5,
   "metadata": {},
   "outputs": [
    {
     "data": {
      "text/html": [
       "<div>\n",
       "<style scoped>\n",
       "    .dataframe tbody tr th:only-of-type {\n",
       "        vertical-align: middle;\n",
       "    }\n",
       "\n",
       "    .dataframe tbody tr th {\n",
       "        vertical-align: top;\n",
       "    }\n",
       "\n",
       "    .dataframe thead th {\n",
       "        text-align: right;\n",
       "    }\n",
       "</style>\n",
       "<table border=\"1\" class=\"dataframe\">\n",
       "  <thead>\n",
       "    <tr style=\"text-align: right;\">\n",
       "      <th></th>\n",
       "      <th>index</th>\n",
       "      <th>title</th>\n",
       "      <th>rating</th>\n",
       "      <th>text</th>\n",
       "    </tr>\n",
       "  </thead>\n",
       "  <tbody>\n",
       "    <tr>\n",
       "      <th>0</th>\n",
       "      <td>37</td>\n",
       "      <td>Pretty good</td>\n",
       "      <td>5</td>\n",
       "      <td>I like deep cleaning and this vacuum allows th...</td>\n",
       "    </tr>\n",
       "    <tr>\n",
       "      <th>1</th>\n",
       "      <td>23</td>\n",
       "      <td>Great Vaccum!</td>\n",
       "      <td>5</td>\n",
       "      <td>This vacuum works exactly like I wanted it to....</td>\n",
       "    </tr>\n",
       "    <tr>\n",
       "      <th>2</th>\n",
       "      <td>22</td>\n",
       "      <td>Does the job</td>\n",
       "      <td>4</td>\n",
       "      <td>Very good budget vacuum. Cleans very well. Doe...</td>\n",
       "    </tr>\n",
       "    <tr>\n",
       "      <th>3</th>\n",
       "      <td>34</td>\n",
       "      <td>Bissell... Dog hair... Bissell WON!!!</td>\n",
       "      <td>5</td>\n",
       "      <td>It has great suction but when it started to su...</td>\n",
       "    </tr>\n",
       "    <tr>\n",
       "      <th>4</th>\n",
       "      <td>36</td>\n",
       "      <td>Great vaccum for the price</td>\n",
       "      <td>5</td>\n",
       "      <td>Such great suction on this vacuum. It manages ...</td>\n",
       "    </tr>\n",
       "  </tbody>\n",
       "</table>\n",
       "</div>"
      ],
      "text/plain": [
       "   index                                  title rating  \\\n",
       "0     37                            Pretty good      5   \n",
       "1     23                          Great Vaccum!      5   \n",
       "2     22                           Does the job      4   \n",
       "3     34  Bissell... Dog hair... Bissell WON!!!      5   \n",
       "4     36             Great vaccum for the price      5   \n",
       "\n",
       "                                                text  \n",
       "0  I like deep cleaning and this vacuum allows th...  \n",
       "1  This vacuum works exactly like I wanted it to....  \n",
       "2  Very good budget vacuum. Cleans very well. Doe...  \n",
       "3  It has great suction but when it started to su...  \n",
       "4  Such great suction on this vacuum. It manages ...  "
      ]
     },
     "execution_count": 5,
     "metadata": {},
     "output_type": "execute_result"
    }
   ],
   "source": [
    "# Filter feedbacks text below 300 characters\n",
    "df = df[df.text.str.len() < 300].reset_index(drop=True)\n",
    "\n",
    "# Sample n feedbacks\n",
    "df = df.sample(n=15).reset_index()\n",
    "\n",
    "df.head()"
   ]
  },
  {
   "cell_type": "markdown",
   "metadata": {},
   "source": [
    "#### Analysis\n",
    "\n",
    "Here is a simple analysis loop that will send the feedbacks to GPT-3 and parse the JSON response. The analysis could take some time, depending on the number of feedbacks and on OpenAI account type.\n",
    "\n",
    "At the end, it updates the main dataframe with a new JSON column for each feedback and save the dataframe as CSV."
   ]
  },
  {
   "cell_type": "code",
   "execution_count": 6,
   "metadata": {},
   "outputs": [
    {
     "data": {
      "application/json": {
       "ascii": false,
       "bar_format": null,
       "colour": null,
       "elapsed": 0.023698091506958008,
       "initial": 0,
       "n": 0,
       "ncols": null,
       "nrows": null,
       "postfix": null,
       "prefix": "Analyzing reviews",
       "rate": null,
       "total": 15,
       "unit": "it",
       "unit_divisor": 1000,
       "unit_scale": false
      },
      "application/vnd.jupyter.widget-view+json": {
       "model_id": "4bd656dbf586459aaab9709d89aad7fc",
       "version_major": 2,
       "version_minor": 0
      },
      "text/plain": [
       "Analyzing reviews:   0%|          | 0/15 [00:00<?, ?it/s]"
      ]
     },
     "metadata": {},
     "output_type": "display_data"
    },
    {
     "name": "stderr",
     "output_type": "stream",
     "text": [
      "2022-09-08 22:47:55,840 | INFO | Analyzing feedback - \n",
      "Title: Pretty good\n",
      "Text: I like deep cleaning and this vacuum allows that for sure. Has great suction and the attachments work well. It seems a little on the heavy side but it’s alright. Fluffs up the carpet nicely and easy to keep clean.\n",
      "\n",
      "2022-09-08 22:47:55,843 | INFO | message='Request to OpenAI API' method=post path=https://api.openai.com/v1/completions\n",
      "2022-09-08 22:48:02,291 | INFO | message='OpenAI API response' path=https://api.openai.com/v1/completions processing_ms=4730 request_id=ad5054e724247f6bb02d45c34e7805fc response_code=200\n",
      "2022-09-08 22:48:02,297 | INFO | Analyzing feedback - \n",
      "Title: Great Vaccum!\n",
      "Text: This vacuum works exactly like I wanted it to.  It picks up everything.\n",
      "\n",
      "2022-09-08 22:48:02,298 | INFO | message='Request to OpenAI API' method=post path=https://api.openai.com/v1/completions\n"
     ]
    },
    {
     "name": "stdout",
     "output_type": "stream",
     "text": [
      "[{'aspect': 'Cleaning',\n",
      "  'segment': 'I like deep cleaning and this vacuum allows that for sure',\n",
      "  'sentiment': 'positive'},\n",
      " {'aspect': 'Suction', 'segment': 'Has great suction', 'sentiment': 'positive'},\n",
      " {'aspect': 'Attachments',\n",
      "  'segment': 'the attachments work well',\n",
      "  'sentiment': 'positive'},\n",
      " {'aspect': 'Weight',\n",
      "  'segment': 'It seems a little on the heavy side but it’s alright',\n",
      "  'sentiment': 'negative'},\n",
      " {'aspect': 'Carpet',\n",
      "  'segment': 'Fluffs up the carpet nicely',\n",
      "  'sentiment': 'positive'},\n",
      " {'aspect': 'Maintenance',\n",
      "  'segment': 'easy to keep clean',\n",
      "  'sentiment': 'positive'}]\n"
     ]
    },
    {
     "name": "stderr",
     "output_type": "stream",
     "text": [
      "2022-09-08 22:48:04,431 | INFO | message='OpenAI API response' path=https://api.openai.com/v1/completions processing_ms=1926 request_id=ee884e90dee92d4ab56add630320503f response_code=200\n",
      "2022-09-08 22:48:04,432 | INFO | Analyzing feedback - \n",
      "Title: Does the job\n",
      "Text: Very good budget vacuum. Cleans very well. Does not fit under the couch and I did not think to get a retractable cord, I wish I had. But over all, its a very good vacuum cleaner. Sucked ups a cup of dirt in seconds that I robot left behind.\n",
      "\n",
      "2022-09-08 22:48:04,433 | INFO | message='Request to OpenAI API' method=post path=https://api.openai.com/v1/completions\n"
     ]
    },
    {
     "name": "stdout",
     "output_type": "stream",
     "text": [
      "[{'aspect': 'Overall satisfaction',\n",
      "  'segment': 'This vacuum works exactly like I wanted it to',\n",
      "  'sentiment': 'positive'},\n",
      " {'aspect': 'Performance',\n",
      "  'segment': 'It picks up everything',\n",
      "  'sentiment': 'positive'}]\n"
     ]
    },
    {
     "name": "stderr",
     "output_type": "stream",
     "text": [
      "2022-09-08 22:48:09,514 | INFO | message='OpenAI API response' path=https://api.openai.com/v1/completions processing_ms=4875 request_id=1fed7055bb146444f9a9fda7d50d5740 response_code=200\n",
      "2022-09-08 22:48:09,516 | INFO | Analyzing feedback - \n",
      "Title: Bissell... Dog hair... Bissell WON!!!\n",
      "Text: It has great suction but when it started to suck my sheet up it started to smoke a little, luckily the sheet was very easy to remove. The smoke stopped and most like was from the friction of the sheet.\n",
      "\n",
      "2022-09-08 22:48:09,516 | INFO | message='Request to OpenAI API' method=post path=https://api.openai.com/v1/completions\n"
     ]
    },
    {
     "name": "stdout",
     "output_type": "stream",
     "text": [
      "[{'aspect': 'Overall satisfaction',\n",
      "  'segment': 'Very good budget vacuum',\n",
      "  'sentiment': 'positive'},\n",
      " {'aspect': 'Cleaning', 'segment': 'Cleans very well', 'sentiment': 'positive'},\n",
      " {'aspect': 'Size',\n",
      "  'segment': 'Does not fit under the couch',\n",
      "  'sentiment': 'negative'},\n",
      " {'aspect': 'Cord',\n",
      "  'segment': 'I did not think to get a retractable cord, I wish I had',\n",
      "  'sentiment': 'negative'},\n",
      " {'aspect': 'Comparison',\n",
      "  'segment': 'Sucked ups a cup of dirt in seconds that I robot left behind',\n",
      "  'sentiment': 'positive'}]\n"
     ]
    },
    {
     "name": "stderr",
     "output_type": "stream",
     "text": [
      "2022-09-08 22:48:15,607 | INFO | message='OpenAI API response' path=https://api.openai.com/v1/completions processing_ms=5895 request_id=76c588dd87d2f2d356b02e8257c41911 response_code=200\n",
      "2022-09-08 22:48:15,609 | INFO | Analyzing feedback - \n",
      "Title: Great vaccum for the price\n",
      "Text: Such great suction on this vacuum. It manages to pickup so much first and hair from my carpets\n",
      "\n",
      "2022-09-08 22:48:15,609 | INFO | message='Request to OpenAI API' method=post path=https://api.openai.com/v1/completions\n"
     ]
    },
    {
     "name": "stdout",
     "output_type": "stream",
     "text": [
      "[{'aspect': 'Suction',\n",
      "  'segment': 'It has great suction',\n",
      "  'sentiment': 'positive'},\n",
      " {'aspect': 'Smoking',\n",
      "  'segment': 'it started to smoke a little',\n",
      "  'sentiment': 'negative'},\n",
      " {'aspect': 'Ease of use',\n",
      "  'segment': 'Luckily the sheet was very easy to remove',\n",
      "  'sentiment': 'positive'}]\n"
     ]
    },
    {
     "name": "stderr",
     "output_type": "stream",
     "text": [
      "2022-09-08 22:48:18,539 | INFO | message='OpenAI API response' path=https://api.openai.com/v1/completions processing_ms=2738 request_id=a679dc1a01628e140e1075e7696220ef response_code=200\n",
      "2022-09-08 22:48:18,540 | ERROR | Failed to parse '.\n",
      "\n",
      "[\n",
      "  { \"aspect\": \"Suction\", \"segment\": \"Such great suction on this vacuum\", \"sentiment\": \"positive\" },\n",
      "  { \"aspect\": \"Performance\", \"segment\": \"It manages to pickup so much first and hair from my carpets\", \"sentiment\": \"positive\" }\n",
      "]' -> Expecting value: line 1 column 1 (char 0)\n",
      "2022-09-08 22:48:18,541 | INFO | Analyzing feedback - \n",
      "Title: Great value\n",
      "Text: I love this.  I have 2 dogs and it doesn't clog up. Fantastic. Best vacuum I've owned\n",
      "\n",
      "2022-09-08 22:48:18,541 | INFO | message='Request to OpenAI API' method=post path=https://api.openai.com/v1/completions\n",
      "2022-09-08 22:48:23,955 | INFO | message='OpenAI API response' path=https://api.openai.com/v1/completions processing_ms=5234 request_id=ee8593aaee2ec1f84e58f7432a878e7c response_code=200\n",
      "2022-09-08 22:48:23,957 | INFO | Analyzing feedback - \n",
      "Title: Práctica y eficiente\n",
      "Text: Trabaja muy bien, fácil de limpiar los filtros, no es muy liviana pero no afecta al trabajar bonito color\n",
      "\n",
      "2022-09-08 22:48:23,957 | INFO | message='Request to OpenAI API' method=post path=https://api.openai.com/v1/completions\n"
     ]
    },
    {
     "name": "stdout",
     "output_type": "stream",
     "text": [
      "[{'aspect': 'Overall satisfaction',\n",
      "  'segment': 'I love this',\n",
      "  'sentiment': 'positive'},\n",
      " {'aspect': 'Hair', 'segment': \"it doesn't clog up\", 'sentiment': 'positive'},\n",
      " {'aspect': 'Comparison',\n",
      "  'segment': \"Best vacuum I've owned\",\n",
      "  'sentiment': 'positive'}]\n"
     ]
    },
    {
     "name": "stderr",
     "output_type": "stream",
     "text": [
      "2022-09-08 22:48:30,451 | INFO | message='OpenAI API response' path=https://api.openai.com/v1/completions processing_ms=6266 request_id=4d01334ccc095c5245f7e41b38edf63d response_code=200\n",
      "2022-09-08 22:48:30,452 | INFO | Analyzing feedback - \n",
      "Title: Excellent appliance\n",
      "Text: This vacuum is so great even the cleaning lady raves about it.  She has a vacuum but only uses ours.\n",
      "\n",
      "2022-09-08 22:48:30,453 | INFO | message='Request to OpenAI API' method=post path=https://api.openai.com/v1/completions\n"
     ]
    },
    {
     "name": "stdout",
     "output_type": "stream",
     "text": [
      "[{'aspect': 'Overall satisfaction',\n",
      "  'segment': 'Trabaja muy bien',\n",
      "  'sentiment': 'positive'},\n",
      " {'aspect': 'Ease of cleaning',\n",
      "  'segment': 'fácil de limpiar los filtros',\n",
      "  'sentiment': 'positive'},\n",
      " {'aspect': 'Weight', 'segment': 'no es muy liviana', 'sentiment': 'negative'},\n",
      " {'aspect': 'Appearance', 'segment': 'bonito color', 'sentiment': 'positive'}]\n"
     ]
    },
    {
     "name": "stderr",
     "output_type": "stream",
     "text": [
      "2022-09-08 22:48:34,149 | INFO | message='OpenAI API response' path=https://api.openai.com/v1/completions processing_ms=3475 request_id=1b4c0ff157a99b2c80bdf4c976d9740d response_code=200\n",
      "2022-09-08 22:48:34,151 | INFO | Analyzing feedback - \n",
      "Title: From a Shark to a Bissell!!!\n",
      "Text: I was a shark believer, and i still like their vacuums.  But after having to replace ours 3 times in the last 5 years, it was time to try something different.  This vacuum has surpassed my expectations and i love it.  i hope it lasts forever!\n",
      "\n",
      "2022-09-08 22:48:34,152 | INFO | message='Request to OpenAI API' method=post path=https://api.openai.com/v1/completions\n"
     ]
    },
    {
     "name": "stdout",
     "output_type": "stream",
     "text": [
      "[{'aspect': 'Overall satisfaction',\n",
      "  'segment': 'This vacuum is so great',\n",
      "  'sentiment': 'positive'},\n",
      " {'aspect': \"Cleaning lady's opinion\",\n",
      "  'segment': 'even the cleaning lady raves about it',\n",
      "  'sentiment': 'positive'},\n",
      " {'aspect': \"Cleaning lady's vacuum\",\n",
      "  'segment': 'She has a vacuum but only uses ours',\n",
      "  'sentiment': 'positive'}]\n"
     ]
    },
    {
     "name": "stderr",
     "output_type": "stream",
     "text": [
      "2022-09-08 22:48:40,054 | INFO | message='OpenAI API response' path=https://api.openai.com/v1/completions processing_ms=5727 request_id=303c1be4574e2102e41b33bc5926026a response_code=200\n",
      "2022-09-08 22:48:40,056 | INFO | Analyzing feedback - \n",
      "Title: Práctica y eficiente\n",
      "Text: Trabaja muy bien, fácil de limpiar los filtros, no es muy liviana pero no afecta al trabajar bonito color\n",
      "\n",
      "2022-09-08 22:48:40,056 | INFO | message='Request to OpenAI API' method=post path=https://api.openai.com/v1/completions\n"
     ]
    },
    {
     "name": "stdout",
     "output_type": "stream",
     "text": [
      "[{'aspect': 'Reliability',\n",
      "  'segment': 'after having to replace ours 3 times in the last 5 years',\n",
      "  'sentiment': 'negative'},\n",
      " {'aspect': 'Performance',\n",
      "  'segment': 'This vacuum has surpassed my expectations',\n",
      "  'sentiment': 'positive'},\n",
      " {'aspect': 'Longevity',\n",
      "  'segment': 'i hope it lasts forever!',\n",
      "  'sentiment': 'positive'}]\n"
     ]
    },
    {
     "name": "stderr",
     "output_type": "stream",
     "text": [
      "2022-09-08 22:48:47,021 | INFO | message='OpenAI API response' path=https://api.openai.com/v1/completions processing_ms=6746 request_id=d2d6ba035eda807e649b2672b7173c60 response_code=200\n",
      "2022-09-08 22:48:47,022 | INFO | Analyzing feedback - \n",
      "Title: I asked for a vacuum cleaner not sheet sucker\n",
      "Text: Works great on pet hair\n",
      "\n",
      "2022-09-08 22:48:47,023 | INFO | message='Request to OpenAI API' method=post path=https://api.openai.com/v1/completions\n"
     ]
    },
    {
     "name": "stdout",
     "output_type": "stream",
     "text": [
      "[{'aspect': 'Overall satisfaction',\n",
      "  'segment': 'Trabaja muy bien',\n",
      "  'sentiment': 'positive'},\n",
      " {'aspect': 'Ease of cleaning',\n",
      "  'segment': 'fácil de limpiar los filtros',\n",
      "  'sentiment': 'positive'},\n",
      " {'aspect': 'Weight', 'segment': 'no es muy liviana', 'sentiment': 'negative'},\n",
      " {'aspect': 'Appearance', 'segment': 'bonito color', 'sentiment': 'positive'}]\n"
     ]
    },
    {
     "name": "stderr",
     "output_type": "stream",
     "text": [
      "2022-09-08 22:48:48,932 | INFO | message='OpenAI API response' path=https://api.openai.com/v1/completions processing_ms=1716 request_id=68bc089d0b2f0dfa318bfb5560e9bf2c response_code=200\n",
      "2022-09-08 22:48:48,933 | ERROR | Failed to parse '.\n",
      "\n",
      "[\n",
      "  { \"aspect\": \"Performance\", \"segment\": \"Works great on pet hair\", \"sentiment\": \"positive\" }\n",
      "]' -> Expecting value: line 1 column 1 (char 0)\n",
      "2022-09-08 22:48:48,934 | INFO | Analyzing feedback - \n",
      "Title: Bissell CleanView Swivel Pet Reach Vacuum Cleaner\n",
      "Text: Easy to assemble, and emptying tank is straight forward. Used it to vacuum 1 room, and it filled the tank twice. Very impressed, awesome suction. Hopefully it will last, but so far-so good.\n",
      "\n",
      "2022-09-08 22:48:48,934 | INFO | message='Request to OpenAI API' method=post path=https://api.openai.com/v1/completions\n",
      "2022-09-08 22:48:55,001 | INFO | message='OpenAI API response' path=https://api.openai.com/v1/completions processing_ms=5881 request_id=e7b9ae9522b08481ea1bb871a040cade response_code=200\n",
      "2022-09-08 22:48:55,002 | INFO | Analyzing feedback - \n",
      "Title: Great Vaccum!\n",
      "Text: This vacuum works exactly like I wanted it to.  It picks up everything.\n",
      "\n",
      "2022-09-08 22:48:55,003 | INFO | message='Request to OpenAI API' method=post path=https://api.openai.com/v1/completions\n"
     ]
    },
    {
     "name": "stdout",
     "output_type": "stream",
     "text": [
      "[{'aspect': 'Assembly', 'segment': 'Easy to assemble', 'sentiment': 'positive'},\n",
      " {'aspect': 'Emptying tank',\n",
      "  'segment': 'emptying tank is straight forward',\n",
      "  'sentiment': 'positive'},\n",
      " {'aspect': 'Suction', 'segment': 'awesome suction', 'sentiment': 'positive'},\n",
      " {'aspect': 'Longevity',\n",
      "  'segment': 'Hopefully it will last',\n",
      "  'sentiment': 'positive'}]\n"
     ]
    },
    {
     "name": "stderr",
     "output_type": "stream",
     "text": [
      "2022-09-08 22:48:57,581 | INFO | message='OpenAI API response' path=https://api.openai.com/v1/completions processing_ms=2394 request_id=8adfac30789855f34e2301c02c41d747 response_code=200\n",
      "2022-09-08 22:48:57,582 | INFO | Analyzing feedback - \n",
      "Title: Great vaccum for the price\n",
      "Text: Such great suction on this vacuum. It manages to pickup so much first and hair from my carpets\n",
      "\n",
      "2022-09-08 22:48:57,583 | INFO | message='Request to OpenAI API' method=post path=https://api.openai.com/v1/completions\n"
     ]
    },
    {
     "name": "stdout",
     "output_type": "stream",
     "text": [
      "[{'aspect': 'Overall satisfaction',\n",
      "  'segment': 'This vacuum works exactly like I wanted it to',\n",
      "  'sentiment': 'positive'},\n",
      " {'aspect': 'Performance',\n",
      "  'segment': 'It picks up everything',\n",
      "  'sentiment': 'positive'}]\n"
     ]
    },
    {
     "name": "stderr",
     "output_type": "stream",
     "text": [
      "2022-09-08 22:49:00,155 | INFO | message='OpenAI API response' path=https://api.openai.com/v1/completions processing_ms=2389 request_id=31adf1c51b1478a3f1106126b9b70139 response_code=200\n",
      "2022-09-08 22:49:00,156 | ERROR | Failed to parse '.\n",
      "\n",
      "[\n",
      "  { \"aspect\": \"Suction\", \"segment\": \"Such great suction on this vacuum\", \"sentiment\": \"positive\" },\n",
      "  { \"aspect\": \"Performance\", \"segment\": \"It manages to pickup so much first and hair from my carpets\", \"sentiment\": \"positive\" }\n",
      "]' -> Expecting value: line 1 column 1 (char 0)\n",
      "2022-09-08 22:49:00,157 | INFO | Analyzing feedback - \n",
      "Title: Picks up dog hair on all surfaces\n",
      "Text: Good suction, picks up dog hair, dirt, hay, etc. Easy to empty canister. Easy to clean filter. Does get clogged, but easy to take apart and unclog, takes no time at all.\n",
      "\n",
      "2022-09-08 22:49:00,157 | INFO | message='Request to OpenAI API' method=post path=https://api.openai.com/v1/completions\n",
      "2022-09-08 22:49:06,852 | INFO | message='OpenAI API response' path=https://api.openai.com/v1/completions processing_ms=6504 request_id=5b98e5a3068dff00707ce6da34e77c77 response_code=200\n"
     ]
    },
    {
     "name": "stdout",
     "output_type": "stream",
     "text": [
      "[{'aspect': 'Suction', 'segment': 'Good suction', 'sentiment': 'positive'},\n",
      " {'aspect': 'Picks up',\n",
      "  'segment': 'picks up dog hair, dirt, hay, etc.',\n",
      "  'sentiment': 'positive'},\n",
      " {'aspect': 'Canister',\n",
      "  'segment': 'Easy to empty canister.',\n",
      "  'sentiment': 'positive'},\n",
      " {'aspect': 'Filter',\n",
      "  'segment': 'Easy to clean filter.',\n",
      "  'sentiment': 'positive'},\n",
      " {'aspect': 'Clogging',\n",
      "  'segment': 'Does get clogged, but easy to take apart and unclog, takes no '\n",
      "             'time at all.',\n",
      "  'sentiment': 'negative'}]\n"
     ]
    }
   ],
   "source": [
    "from random import choice\n",
    "from tqdm.notebook import tqdm\n",
    "from absa.analysis.gpt3 import analyze\n",
    "from json import loads\n",
    "from pprint import pprint\n",
    "from textwrap import dedent\n",
    "\n",
    "analysis_results = []\n",
    "extra_prompts = []\n",
    "\n",
    "logging.getLogger(\"openai\").setLevel(logging.INFO)\n",
    "logging.getLogger(\"requests\").setLevel(logging.WARNING)\n",
    "\n",
    "for i in tqdm(range(len(df)), desc=\"Analyzing reviews\"):\n",
    "    title = df.loc[i, \"title\"]\n",
    "    text = df.loc[i, \"text\"]\n",
    "\n",
    "    log.info(f\"Analyzing feedback - \\nTitle: {title}\\nText: {text}\\n\")\n",
    "\n",
    "    extra_prompt = choice(extra_prompts) if extra_prompts else \"\"\n",
    "\n",
    "    res = analyze(\n",
    "        text=text,\n",
    "        extra_prompt=\"\",\n",
    "        max_tokens=1024,\n",
    "        temperature=0.1,\n",
    "        top_p=1,\n",
    "    )\n",
    "\n",
    "    raw_json = res[\"choices\"][0][\"text\"].strip()\n",
    "\n",
    "    try:\n",
    "        json_data = loads(raw_json)\n",
    "        analysis_results.append(json_data)\n",
    "\n",
    "        log.debug(f\"JSON response: {pprint(json_data)}\")\n",
    "\n",
    "        extra_prompts.append(f\"\\n{text}\\n{raw_json}\")\n",
    "    except Exception as e:\n",
    "        log.error(f\"Failed to parse '{raw_json}' -> {e}\")\n",
    "        analysis_results.append([])\n",
    "\n",
    "df[\"analysis\"] = analysis_results\n",
    "df.to_csv(\"./feedbacks_analysis.csv\", index=False)\n"
   ]
  },
  {
   "cell_type": "markdown",
   "metadata": {},
   "source": [
    "#### Playing with analysis results\n",
    "\n",
    "Start from here if you want to play or display the analysis results."
   ]
  },
  {
   "cell_type": "code",
   "execution_count": 7,
   "metadata": {},
   "outputs": [
    {
     "data": {
      "text/html": [
       "<div>\n",
       "<style scoped>\n",
       "    .dataframe tbody tr th:only-of-type {\n",
       "        vertical-align: middle;\n",
       "    }\n",
       "\n",
       "    .dataframe tbody tr th {\n",
       "        vertical-align: top;\n",
       "    }\n",
       "\n",
       "    .dataframe thead th {\n",
       "        text-align: right;\n",
       "    }\n",
       "</style>\n",
       "<table border=\"1\" class=\"dataframe\">\n",
       "  <thead>\n",
       "    <tr style=\"text-align: right;\">\n",
       "      <th></th>\n",
       "      <th>index</th>\n",
       "      <th>title</th>\n",
       "      <th>rating</th>\n",
       "      <th>text</th>\n",
       "      <th>analysis</th>\n",
       "    </tr>\n",
       "  </thead>\n",
       "  <tbody>\n",
       "    <tr>\n",
       "      <th>0</th>\n",
       "      <td>37</td>\n",
       "      <td>Pretty good</td>\n",
       "      <td>5</td>\n",
       "      <td>I like deep cleaning and this vacuum allows th...</td>\n",
       "      <td>[{'aspect': 'Cleaning', 'segment': 'I like dee...</td>\n",
       "    </tr>\n",
       "    <tr>\n",
       "      <th>1</th>\n",
       "      <td>23</td>\n",
       "      <td>Great Vaccum!</td>\n",
       "      <td>5</td>\n",
       "      <td>This vacuum works exactly like I wanted it to....</td>\n",
       "      <td>[{'aspect': 'Overall satisfaction', 'segment':...</td>\n",
       "    </tr>\n",
       "    <tr>\n",
       "      <th>2</th>\n",
       "      <td>22</td>\n",
       "      <td>Does the job</td>\n",
       "      <td>4</td>\n",
       "      <td>Very good budget vacuum. Cleans very well. Doe...</td>\n",
       "      <td>[{'aspect': 'Overall satisfaction', 'segment':...</td>\n",
       "    </tr>\n",
       "    <tr>\n",
       "      <th>3</th>\n",
       "      <td>34</td>\n",
       "      <td>Bissell... Dog hair... Bissell WON!!!</td>\n",
       "      <td>5</td>\n",
       "      <td>It has great suction but when it started to su...</td>\n",
       "      <td>[{'aspect': 'Suction', 'segment': 'It has grea...</td>\n",
       "    </tr>\n",
       "    <tr>\n",
       "      <th>4</th>\n",
       "      <td>36</td>\n",
       "      <td>Great vaccum for the price</td>\n",
       "      <td>5</td>\n",
       "      <td>Such great suction on this vacuum. It manages ...</td>\n",
       "      <td>[]</td>\n",
       "    </tr>\n",
       "    <tr>\n",
       "      <th>5</th>\n",
       "      <td>10</td>\n",
       "      <td>Great value</td>\n",
       "      <td>5</td>\n",
       "      <td>I love this.  I have 2 dogs and it doesn't clo...</td>\n",
       "      <td>[{'aspect': 'Overall satisfaction', 'segment':...</td>\n",
       "    </tr>\n",
       "    <tr>\n",
       "      <th>6</th>\n",
       "      <td>32</td>\n",
       "      <td>Práctica y eficiente</td>\n",
       "      <td>4</td>\n",
       "      <td>Trabaja muy bien, fácil de limpiar los filtros...</td>\n",
       "      <td>[{'aspect': 'Overall satisfaction', 'segment':...</td>\n",
       "    </tr>\n",
       "    <tr>\n",
       "      <th>7</th>\n",
       "      <td>30</td>\n",
       "      <td>Excellent appliance</td>\n",
       "      <td>5</td>\n",
       "      <td>This vacuum is so great even the cleaning lady...</td>\n",
       "      <td>[{'aspect': 'Overall satisfaction', 'segment':...</td>\n",
       "    </tr>\n",
       "    <tr>\n",
       "      <th>8</th>\n",
       "      <td>11</td>\n",
       "      <td>From a Shark to a Bissell!!!</td>\n",
       "      <td>5</td>\n",
       "      <td>I was a shark believer, and i still like their...</td>\n",
       "      <td>[{'aspect': 'Reliability', 'segment': 'after h...</td>\n",
       "    </tr>\n",
       "    <tr>\n",
       "      <th>9</th>\n",
       "      <td>14</td>\n",
       "      <td>Práctica y eficiente</td>\n",
       "      <td>4</td>\n",
       "      <td>Trabaja muy bien, fácil de limpiar los filtros...</td>\n",
       "      <td>[{'aspect': 'Overall satisfaction', 'segment':...</td>\n",
       "    </tr>\n",
       "    <tr>\n",
       "      <th>10</th>\n",
       "      <td>33</td>\n",
       "      <td>I asked for a vacuum cleaner not sheet sucker</td>\n",
       "      <td>4</td>\n",
       "      <td>Works great on pet hair</td>\n",
       "      <td>[]</td>\n",
       "    </tr>\n",
       "    <tr>\n",
       "      <th>11</th>\n",
       "      <td>4</td>\n",
       "      <td>Bissell CleanView Swivel Pet Reach Vacuum Cleaner</td>\n",
       "      <td>5</td>\n",
       "      <td>Easy to assemble, and emptying tank is straigh...</td>\n",
       "      <td>[{'aspect': 'Assembly', 'segment': 'Easy to as...</td>\n",
       "    </tr>\n",
       "    <tr>\n",
       "      <th>12</th>\n",
       "      <td>6</td>\n",
       "      <td>Great Vaccum!</td>\n",
       "      <td>5</td>\n",
       "      <td>This vacuum works exactly like I wanted it to....</td>\n",
       "      <td>[{'aspect': 'Overall satisfaction', 'segment':...</td>\n",
       "    </tr>\n",
       "    <tr>\n",
       "      <th>13</th>\n",
       "      <td>17</td>\n",
       "      <td>Great vaccum for the price</td>\n",
       "      <td>5</td>\n",
       "      <td>Such great suction on this vacuum. It manages ...</td>\n",
       "      <td>[]</td>\n",
       "    </tr>\n",
       "    <tr>\n",
       "      <th>14</th>\n",
       "      <td>26</td>\n",
       "      <td>Picks up dog hair on all surfaces</td>\n",
       "      <td>5</td>\n",
       "      <td>Good suction, picks up dog hair, dirt, hay, et...</td>\n",
       "      <td>[{'aspect': 'Suction', 'segment': 'Good suctio...</td>\n",
       "    </tr>\n",
       "  </tbody>\n",
       "</table>\n",
       "</div>"
      ],
      "text/plain": [
       "    index                                              title  rating  \\\n",
       "0      37                                        Pretty good       5   \n",
       "1      23                                      Great Vaccum!       5   \n",
       "2      22                                       Does the job       4   \n",
       "3      34              Bissell... Dog hair... Bissell WON!!!       5   \n",
       "4      36                         Great vaccum for the price       5   \n",
       "5      10                                        Great value       5   \n",
       "6      32                               Práctica y eficiente       4   \n",
       "7      30                                Excellent appliance       5   \n",
       "8      11                       From a Shark to a Bissell!!!       5   \n",
       "9      14                               Práctica y eficiente       4   \n",
       "10     33      I asked for a vacuum cleaner not sheet sucker       4   \n",
       "11      4  Bissell CleanView Swivel Pet Reach Vacuum Cleaner       5   \n",
       "12      6                                      Great Vaccum!       5   \n",
       "13     17                         Great vaccum for the price       5   \n",
       "14     26                  Picks up dog hair on all surfaces       5   \n",
       "\n",
       "                                                 text  \\\n",
       "0   I like deep cleaning and this vacuum allows th...   \n",
       "1   This vacuum works exactly like I wanted it to....   \n",
       "2   Very good budget vacuum. Cleans very well. Doe...   \n",
       "3   It has great suction but when it started to su...   \n",
       "4   Such great suction on this vacuum. It manages ...   \n",
       "5   I love this.  I have 2 dogs and it doesn't clo...   \n",
       "6   Trabaja muy bien, fácil de limpiar los filtros...   \n",
       "7   This vacuum is so great even the cleaning lady...   \n",
       "8   I was a shark believer, and i still like their...   \n",
       "9   Trabaja muy bien, fácil de limpiar los filtros...   \n",
       "10                            Works great on pet hair   \n",
       "11  Easy to assemble, and emptying tank is straigh...   \n",
       "12  This vacuum works exactly like I wanted it to....   \n",
       "13  Such great suction on this vacuum. It manages ...   \n",
       "14  Good suction, picks up dog hair, dirt, hay, et...   \n",
       "\n",
       "                                             analysis  \n",
       "0   [{'aspect': 'Cleaning', 'segment': 'I like dee...  \n",
       "1   [{'aspect': 'Overall satisfaction', 'segment':...  \n",
       "2   [{'aspect': 'Overall satisfaction', 'segment':...  \n",
       "3   [{'aspect': 'Suction', 'segment': 'It has grea...  \n",
       "4                                                  []  \n",
       "5   [{'aspect': 'Overall satisfaction', 'segment':...  \n",
       "6   [{'aspect': 'Overall satisfaction', 'segment':...  \n",
       "7   [{'aspect': 'Overall satisfaction', 'segment':...  \n",
       "8   [{'aspect': 'Reliability', 'segment': 'after h...  \n",
       "9   [{'aspect': 'Overall satisfaction', 'segment':...  \n",
       "10                                                 []  \n",
       "11  [{'aspect': 'Assembly', 'segment': 'Easy to as...  \n",
       "12  [{'aspect': 'Overall satisfaction', 'segment':...  \n",
       "13                                                 []  \n",
       "14  [{'aspect': 'Suction', 'segment': 'Good suctio...  "
      ]
     },
     "execution_count": 7,
     "metadata": {},
     "output_type": "execute_result"
    }
   ],
   "source": [
    "import pandas as pd\n",
    "\n",
    "df = pd.read_csv(\"./feedbacks_analysis.csv\")\n",
    "\n",
    "df"
   ]
  },
  {
   "cell_type": "code",
   "execution_count": 8,
   "metadata": {},
   "outputs": [
    {
     "data": {
      "text/plain": [
       "0    [{'aspect': 'Cleaning', 'segment': 'I like dee...\n",
       "1    [{'aspect': 'Overall satisfaction', 'segment':...\n",
       "2    [{'aspect': 'Overall satisfaction', 'segment':...\n",
       "3    [{'aspect': 'Suction', 'segment': 'It has grea...\n",
       "4                                                   []\n",
       "Name: analysis, dtype: object"
      ]
     },
     "execution_count": 8,
     "metadata": {},
     "output_type": "execute_result"
    }
   ],
   "source": [
    "from ast import literal_eval\n",
    "\n",
    "df.analysis = df.analysis.apply(literal_eval)\n",
    "\n",
    "analysis_results = df.analysis\n",
    "\n",
    "analysis_results[:5]"
   ]
  },
  {
   "cell_type": "code",
   "execution_count": 14,
   "metadata": {},
   "outputs": [
    {
     "data": {
      "text/html": [
       "<div>\n",
       "<style scoped>\n",
       "    .dataframe tbody tr th:only-of-type {\n",
       "        vertical-align: middle;\n",
       "    }\n",
       "\n",
       "    .dataframe tbody tr th {\n",
       "        vertical-align: top;\n",
       "    }\n",
       "\n",
       "    .dataframe thead th {\n",
       "        text-align: right;\n",
       "    }\n",
       "</style>\n",
       "<table border=\"1\" class=\"dataframe\">\n",
       "  <thead>\n",
       "    <tr style=\"text-align: right;\">\n",
       "      <th></th>\n",
       "      <th>aspect</th>\n",
       "      <th>segment</th>\n",
       "      <th>sentiment</th>\n",
       "      <th>review_id</th>\n",
       "    </tr>\n",
       "  </thead>\n",
       "  <tbody>\n",
       "    <tr>\n",
       "      <th>0</th>\n",
       "      <td>Cleaning</td>\n",
       "      <td>I like deep cleaning and this vacuum allows th...</td>\n",
       "      <td>positive</td>\n",
       "      <td>0</td>\n",
       "    </tr>\n",
       "    <tr>\n",
       "      <th>1</th>\n",
       "      <td>Suction</td>\n",
       "      <td>Has great suction</td>\n",
       "      <td>positive</td>\n",
       "      <td>0</td>\n",
       "    </tr>\n",
       "    <tr>\n",
       "      <th>2</th>\n",
       "      <td>Attachments</td>\n",
       "      <td>the attachments work well</td>\n",
       "      <td>positive</td>\n",
       "      <td>0</td>\n",
       "    </tr>\n",
       "    <tr>\n",
       "      <th>3</th>\n",
       "      <td>Weight</td>\n",
       "      <td>It seems a little on the heavy side but it’s a...</td>\n",
       "      <td>negative</td>\n",
       "      <td>0</td>\n",
       "    </tr>\n",
       "    <tr>\n",
       "      <th>4</th>\n",
       "      <td>Carpet</td>\n",
       "      <td>Fluffs up the carpet nicely</td>\n",
       "      <td>positive</td>\n",
       "      <td>0</td>\n",
       "    </tr>\n",
       "    <tr>\n",
       "      <th>5</th>\n",
       "      <td>Maintenance</td>\n",
       "      <td>easy to keep clean</td>\n",
       "      <td>positive</td>\n",
       "      <td>0</td>\n",
       "    </tr>\n",
       "    <tr>\n",
       "      <th>6</th>\n",
       "      <td>Overall satisfaction</td>\n",
       "      <td>This vacuum works exactly like I wanted it to</td>\n",
       "      <td>positive</td>\n",
       "      <td>1</td>\n",
       "    </tr>\n",
       "    <tr>\n",
       "      <th>7</th>\n",
       "      <td>Performance</td>\n",
       "      <td>It picks up everything</td>\n",
       "      <td>positive</td>\n",
       "      <td>1</td>\n",
       "    </tr>\n",
       "    <tr>\n",
       "      <th>8</th>\n",
       "      <td>Overall satisfaction</td>\n",
       "      <td>Very good budget vacuum</td>\n",
       "      <td>positive</td>\n",
       "      <td>2</td>\n",
       "    </tr>\n",
       "    <tr>\n",
       "      <th>9</th>\n",
       "      <td>Cleaning</td>\n",
       "      <td>Cleans very well</td>\n",
       "      <td>positive</td>\n",
       "      <td>2</td>\n",
       "    </tr>\n",
       "    <tr>\n",
       "      <th>10</th>\n",
       "      <td>Size</td>\n",
       "      <td>Does not fit under the couch</td>\n",
       "      <td>negative</td>\n",
       "      <td>2</td>\n",
       "    </tr>\n",
       "    <tr>\n",
       "      <th>11</th>\n",
       "      <td>Cord</td>\n",
       "      <td>I did not think to get a retractable cord, I w...</td>\n",
       "      <td>negative</td>\n",
       "      <td>2</td>\n",
       "    </tr>\n",
       "    <tr>\n",
       "      <th>12</th>\n",
       "      <td>Comparison</td>\n",
       "      <td>Sucked ups a cup of dirt in seconds that I rob...</td>\n",
       "      <td>positive</td>\n",
       "      <td>2</td>\n",
       "    </tr>\n",
       "    <tr>\n",
       "      <th>13</th>\n",
       "      <td>Suction</td>\n",
       "      <td>It has great suction</td>\n",
       "      <td>positive</td>\n",
       "      <td>3</td>\n",
       "    </tr>\n",
       "    <tr>\n",
       "      <th>14</th>\n",
       "      <td>Smoking</td>\n",
       "      <td>it started to smoke a little</td>\n",
       "      <td>negative</td>\n",
       "      <td>3</td>\n",
       "    </tr>\n",
       "    <tr>\n",
       "      <th>15</th>\n",
       "      <td>Ease of use</td>\n",
       "      <td>Luckily the sheet was very easy to remove</td>\n",
       "      <td>positive</td>\n",
       "      <td>3</td>\n",
       "    </tr>\n",
       "    <tr>\n",
       "      <th>16</th>\n",
       "      <td>Overall satisfaction</td>\n",
       "      <td>I love this</td>\n",
       "      <td>positive</td>\n",
       "      <td>5</td>\n",
       "    </tr>\n",
       "    <tr>\n",
       "      <th>17</th>\n",
       "      <td>Hair</td>\n",
       "      <td>it doesn't clog up</td>\n",
       "      <td>positive</td>\n",
       "      <td>5</td>\n",
       "    </tr>\n",
       "    <tr>\n",
       "      <th>18</th>\n",
       "      <td>Comparison</td>\n",
       "      <td>Best vacuum I've owned</td>\n",
       "      <td>positive</td>\n",
       "      <td>5</td>\n",
       "    </tr>\n",
       "    <tr>\n",
       "      <th>19</th>\n",
       "      <td>Overall satisfaction</td>\n",
       "      <td>Trabaja muy bien</td>\n",
       "      <td>positive</td>\n",
       "      <td>6</td>\n",
       "    </tr>\n",
       "    <tr>\n",
       "      <th>20</th>\n",
       "      <td>Ease of cleaning</td>\n",
       "      <td>fácil de limpiar los filtros</td>\n",
       "      <td>positive</td>\n",
       "      <td>6</td>\n",
       "    </tr>\n",
       "    <tr>\n",
       "      <th>21</th>\n",
       "      <td>Weight</td>\n",
       "      <td>no es muy liviana</td>\n",
       "      <td>negative</td>\n",
       "      <td>6</td>\n",
       "    </tr>\n",
       "    <tr>\n",
       "      <th>22</th>\n",
       "      <td>Appearance</td>\n",
       "      <td>bonito color</td>\n",
       "      <td>positive</td>\n",
       "      <td>6</td>\n",
       "    </tr>\n",
       "    <tr>\n",
       "      <th>23</th>\n",
       "      <td>Overall satisfaction</td>\n",
       "      <td>This vacuum is so great</td>\n",
       "      <td>positive</td>\n",
       "      <td>7</td>\n",
       "    </tr>\n",
       "    <tr>\n",
       "      <th>24</th>\n",
       "      <td>Cleaning lady's opinion</td>\n",
       "      <td>even the cleaning lady raves about it</td>\n",
       "      <td>positive</td>\n",
       "      <td>7</td>\n",
       "    </tr>\n",
       "    <tr>\n",
       "      <th>25</th>\n",
       "      <td>Cleaning lady's vacuum</td>\n",
       "      <td>She has a vacuum but only uses ours</td>\n",
       "      <td>positive</td>\n",
       "      <td>7</td>\n",
       "    </tr>\n",
       "    <tr>\n",
       "      <th>26</th>\n",
       "      <td>Reliability</td>\n",
       "      <td>after having to replace ours 3 times in the la...</td>\n",
       "      <td>negative</td>\n",
       "      <td>8</td>\n",
       "    </tr>\n",
       "    <tr>\n",
       "      <th>27</th>\n",
       "      <td>Performance</td>\n",
       "      <td>This vacuum has surpassed my expectations</td>\n",
       "      <td>positive</td>\n",
       "      <td>8</td>\n",
       "    </tr>\n",
       "    <tr>\n",
       "      <th>28</th>\n",
       "      <td>Longevity</td>\n",
       "      <td>i hope it lasts forever!</td>\n",
       "      <td>positive</td>\n",
       "      <td>8</td>\n",
       "    </tr>\n",
       "    <tr>\n",
       "      <th>29</th>\n",
       "      <td>Overall satisfaction</td>\n",
       "      <td>Trabaja muy bien</td>\n",
       "      <td>positive</td>\n",
       "      <td>9</td>\n",
       "    </tr>\n",
       "    <tr>\n",
       "      <th>30</th>\n",
       "      <td>Ease of cleaning</td>\n",
       "      <td>fácil de limpiar los filtros</td>\n",
       "      <td>positive</td>\n",
       "      <td>9</td>\n",
       "    </tr>\n",
       "    <tr>\n",
       "      <th>31</th>\n",
       "      <td>Weight</td>\n",
       "      <td>no es muy liviana</td>\n",
       "      <td>negative</td>\n",
       "      <td>9</td>\n",
       "    </tr>\n",
       "    <tr>\n",
       "      <th>32</th>\n",
       "      <td>Appearance</td>\n",
       "      <td>bonito color</td>\n",
       "      <td>positive</td>\n",
       "      <td>9</td>\n",
       "    </tr>\n",
       "    <tr>\n",
       "      <th>33</th>\n",
       "      <td>Assembly</td>\n",
       "      <td>Easy to assemble</td>\n",
       "      <td>positive</td>\n",
       "      <td>11</td>\n",
       "    </tr>\n",
       "    <tr>\n",
       "      <th>34</th>\n",
       "      <td>Emptying tank</td>\n",
       "      <td>emptying tank is straight forward</td>\n",
       "      <td>positive</td>\n",
       "      <td>11</td>\n",
       "    </tr>\n",
       "    <tr>\n",
       "      <th>35</th>\n",
       "      <td>Suction</td>\n",
       "      <td>awesome suction</td>\n",
       "      <td>positive</td>\n",
       "      <td>11</td>\n",
       "    </tr>\n",
       "    <tr>\n",
       "      <th>36</th>\n",
       "      <td>Longevity</td>\n",
       "      <td>Hopefully it will last</td>\n",
       "      <td>positive</td>\n",
       "      <td>11</td>\n",
       "    </tr>\n",
       "    <tr>\n",
       "      <th>37</th>\n",
       "      <td>Overall satisfaction</td>\n",
       "      <td>This vacuum works exactly like I wanted it to</td>\n",
       "      <td>positive</td>\n",
       "      <td>12</td>\n",
       "    </tr>\n",
       "    <tr>\n",
       "      <th>38</th>\n",
       "      <td>Performance</td>\n",
       "      <td>It picks up everything</td>\n",
       "      <td>positive</td>\n",
       "      <td>12</td>\n",
       "    </tr>\n",
       "    <tr>\n",
       "      <th>39</th>\n",
       "      <td>Suction</td>\n",
       "      <td>Good suction</td>\n",
       "      <td>positive</td>\n",
       "      <td>14</td>\n",
       "    </tr>\n",
       "    <tr>\n",
       "      <th>40</th>\n",
       "      <td>Picks up</td>\n",
       "      <td>picks up dog hair, dirt, hay, etc.</td>\n",
       "      <td>positive</td>\n",
       "      <td>14</td>\n",
       "    </tr>\n",
       "    <tr>\n",
       "      <th>41</th>\n",
       "      <td>Canister</td>\n",
       "      <td>Easy to empty canister.</td>\n",
       "      <td>positive</td>\n",
       "      <td>14</td>\n",
       "    </tr>\n",
       "    <tr>\n",
       "      <th>42</th>\n",
       "      <td>Filter</td>\n",
       "      <td>Easy to clean filter.</td>\n",
       "      <td>positive</td>\n",
       "      <td>14</td>\n",
       "    </tr>\n",
       "    <tr>\n",
       "      <th>43</th>\n",
       "      <td>Clogging</td>\n",
       "      <td>Does get clogged, but easy to take apart and u...</td>\n",
       "      <td>negative</td>\n",
       "      <td>14</td>\n",
       "    </tr>\n",
       "  </tbody>\n",
       "</table>\n",
       "</div>"
      ],
      "text/plain": [
       "                     aspect  \\\n",
       "0                  Cleaning   \n",
       "1                   Suction   \n",
       "2               Attachments   \n",
       "3                    Weight   \n",
       "4                    Carpet   \n",
       "5               Maintenance   \n",
       "6      Overall satisfaction   \n",
       "7               Performance   \n",
       "8      Overall satisfaction   \n",
       "9                  Cleaning   \n",
       "10                     Size   \n",
       "11                     Cord   \n",
       "12               Comparison   \n",
       "13                  Suction   \n",
       "14                  Smoking   \n",
       "15              Ease of use   \n",
       "16     Overall satisfaction   \n",
       "17                     Hair   \n",
       "18               Comparison   \n",
       "19     Overall satisfaction   \n",
       "20         Ease of cleaning   \n",
       "21                   Weight   \n",
       "22               Appearance   \n",
       "23     Overall satisfaction   \n",
       "24  Cleaning lady's opinion   \n",
       "25   Cleaning lady's vacuum   \n",
       "26              Reliability   \n",
       "27              Performance   \n",
       "28                Longevity   \n",
       "29     Overall satisfaction   \n",
       "30         Ease of cleaning   \n",
       "31                   Weight   \n",
       "32               Appearance   \n",
       "33                 Assembly   \n",
       "34            Emptying tank   \n",
       "35                  Suction   \n",
       "36                Longevity   \n",
       "37     Overall satisfaction   \n",
       "38              Performance   \n",
       "39                  Suction   \n",
       "40                 Picks up   \n",
       "41                 Canister   \n",
       "42                   Filter   \n",
       "43                 Clogging   \n",
       "\n",
       "                                              segment sentiment  review_id  \n",
       "0   I like deep cleaning and this vacuum allows th...  positive          0  \n",
       "1                                   Has great suction  positive          0  \n",
       "2                           the attachments work well  positive          0  \n",
       "3   It seems a little on the heavy side but it’s a...  negative          0  \n",
       "4                         Fluffs up the carpet nicely  positive          0  \n",
       "5                                  easy to keep clean  positive          0  \n",
       "6       This vacuum works exactly like I wanted it to  positive          1  \n",
       "7                              It picks up everything  positive          1  \n",
       "8                             Very good budget vacuum  positive          2  \n",
       "9                                    Cleans very well  positive          2  \n",
       "10                       Does not fit under the couch  negative          2  \n",
       "11  I did not think to get a retractable cord, I w...  negative          2  \n",
       "12  Sucked ups a cup of dirt in seconds that I rob...  positive          2  \n",
       "13                               It has great suction  positive          3  \n",
       "14                       it started to smoke a little  negative          3  \n",
       "15          Luckily the sheet was very easy to remove  positive          3  \n",
       "16                                        I love this  positive          5  \n",
       "17                                 it doesn't clog up  positive          5  \n",
       "18                             Best vacuum I've owned  positive          5  \n",
       "19                                   Trabaja muy bien  positive          6  \n",
       "20                       fácil de limpiar los filtros  positive          6  \n",
       "21                                  no es muy liviana  negative          6  \n",
       "22                                       bonito color  positive          6  \n",
       "23                            This vacuum is so great  positive          7  \n",
       "24              even the cleaning lady raves about it  positive          7  \n",
       "25                She has a vacuum but only uses ours  positive          7  \n",
       "26  after having to replace ours 3 times in the la...  negative          8  \n",
       "27          This vacuum has surpassed my expectations  positive          8  \n",
       "28                           i hope it lasts forever!  positive          8  \n",
       "29                                   Trabaja muy bien  positive          9  \n",
       "30                       fácil de limpiar los filtros  positive          9  \n",
       "31                                  no es muy liviana  negative          9  \n",
       "32                                       bonito color  positive          9  \n",
       "33                                   Easy to assemble  positive         11  \n",
       "34                  emptying tank is straight forward  positive         11  \n",
       "35                                    awesome suction  positive         11  \n",
       "36                             Hopefully it will last  positive         11  \n",
       "37      This vacuum works exactly like I wanted it to  positive         12  \n",
       "38                             It picks up everything  positive         12  \n",
       "39                                       Good suction  positive         14  \n",
       "40                 picks up dog hair, dirt, hay, etc.  positive         14  \n",
       "41                            Easy to empty canister.  positive         14  \n",
       "42                              Easy to clean filter.  positive         14  \n",
       "43  Does get clogged, but easy to take apart and u...  negative         14  "
      ]
     },
     "execution_count": 14,
     "metadata": {},
     "output_type": "execute_result"
    }
   ],
   "source": [
    "annotations = []\n",
    "\n",
    "for i, entry in enumerate(analysis_results):\n",
    "    for a in entry:\n",
    "        a[\"review_id\"] = i\n",
    "        annotations.append(a)\n",
    "\n",
    "analysis_df = pd.DataFrame(annotations)\n",
    "\n",
    "analysis_df.to_csv(\"./analysis.csv\", index=False)\n",
    "\n",
    "analysis_df"
   ]
  },
  {
   "cell_type": "code",
   "execution_count": 10,
   "metadata": {},
   "outputs": [
    {
     "data": {
      "application/vnd.plotly.v1+json": {
       "config": {
        "plotlyServerURL": "https://plot.ly"
       },
       "data": [
        {
         "alignmentgroup": "True",
         "hovertemplate": "sentiment=positive<br>aspect=%{x}<br>count=%{y}<extra></extra>",
         "legendgroup": "positive",
         "marker": {
          "color": "#52AC5E",
          "pattern": {
           "shape": ""
          }
         },
         "name": "positive",
         "offsetgroup": "positive",
         "orientation": "v",
         "showlegend": true,
         "textposition": "auto",
         "type": "bar",
         "x": [
          "Cleaning",
          "Suction",
          "Attachments",
          "Carpet",
          "Maintenance",
          "Overall satisfaction",
          "Performance",
          "Overall satisfaction",
          "Cleaning",
          "Comparison",
          "Suction",
          "Ease of use",
          "Overall satisfaction",
          "Hair",
          "Comparison",
          "Overall satisfaction",
          "Ease of cleaning",
          "Appearance",
          "Overall satisfaction",
          "Cleaning lady's opinion",
          "Cleaning lady's vacuum",
          "Performance",
          "Longevity",
          "Overall satisfaction",
          "Ease of cleaning",
          "Appearance",
          "Assembly",
          "Emptying tank",
          "Suction",
          "Longevity",
          "Overall satisfaction",
          "Performance",
          "Suction",
          "Picks up",
          "Canister",
          "Filter"
         ],
         "xaxis": "x",
         "y": [
          1,
          1,
          1,
          1,
          1,
          1,
          1,
          1,
          1,
          1,
          1,
          1,
          1,
          1,
          1,
          1,
          1,
          1,
          1,
          1,
          1,
          1,
          1,
          1,
          1,
          1,
          1,
          1,
          1,
          1,
          1,
          1,
          1,
          1,
          1,
          1
         ],
         "yaxis": "y"
        },
        {
         "alignmentgroup": "True",
         "hovertemplate": "sentiment=negative<br>aspect=%{x}<br>count=%{y}<extra></extra>",
         "legendgroup": "negative",
         "marker": {
          "color": "#e34a2d",
          "pattern": {
           "shape": ""
          }
         },
         "name": "negative",
         "offsetgroup": "negative",
         "orientation": "v",
         "showlegend": true,
         "textposition": "auto",
         "type": "bar",
         "x": [
          "Weight",
          "Size",
          "Cord",
          "Smoking",
          "Weight",
          "Reliability",
          "Weight",
          "Clogging"
         ],
         "xaxis": "x",
         "y": [
          1,
          1,
          1,
          1,
          1,
          1,
          1,
          1
         ],
         "yaxis": "y"
        }
       ],
       "layout": {
        "barmode": "stack",
        "legend": {
         "title": {
          "text": "sentiment"
         },
         "tracegroupgap": 0
        },
        "template": {
         "data": {
          "bar": [
           {
            "error_x": {
             "color": "#2a3f5f"
            },
            "error_y": {
             "color": "#2a3f5f"
            },
            "marker": {
             "line": {
              "color": "white",
              "width": 0.5
             },
             "pattern": {
              "fillmode": "overlay",
              "size": 10,
              "solidity": 0.2
             }
            },
            "type": "bar"
           }
          ],
          "barpolar": [
           {
            "marker": {
             "line": {
              "color": "white",
              "width": 0.5
             },
             "pattern": {
              "fillmode": "overlay",
              "size": 10,
              "solidity": 0.2
             }
            },
            "type": "barpolar"
           }
          ],
          "carpet": [
           {
            "aaxis": {
             "endlinecolor": "#2a3f5f",
             "gridcolor": "#C8D4E3",
             "linecolor": "#C8D4E3",
             "minorgridcolor": "#C8D4E3",
             "startlinecolor": "#2a3f5f"
            },
            "baxis": {
             "endlinecolor": "#2a3f5f",
             "gridcolor": "#C8D4E3",
             "linecolor": "#C8D4E3",
             "minorgridcolor": "#C8D4E3",
             "startlinecolor": "#2a3f5f"
            },
            "type": "carpet"
           }
          ],
          "choropleth": [
           {
            "colorbar": {
             "outlinewidth": 0,
             "ticks": ""
            },
            "type": "choropleth"
           }
          ],
          "contour": [
           {
            "colorbar": {
             "outlinewidth": 0,
             "ticks": ""
            },
            "colorscale": [
             [
              0,
              "#0d0887"
             ],
             [
              0.1111111111111111,
              "#46039f"
             ],
             [
              0.2222222222222222,
              "#7201a8"
             ],
             [
              0.3333333333333333,
              "#9c179e"
             ],
             [
              0.4444444444444444,
              "#bd3786"
             ],
             [
              0.5555555555555556,
              "#d8576b"
             ],
             [
              0.6666666666666666,
              "#ed7953"
             ],
             [
              0.7777777777777778,
              "#fb9f3a"
             ],
             [
              0.8888888888888888,
              "#fdca26"
             ],
             [
              1,
              "#f0f921"
             ]
            ],
            "type": "contour"
           }
          ],
          "contourcarpet": [
           {
            "colorbar": {
             "outlinewidth": 0,
             "ticks": ""
            },
            "type": "contourcarpet"
           }
          ],
          "heatmap": [
           {
            "colorbar": {
             "outlinewidth": 0,
             "ticks": ""
            },
            "colorscale": [
             [
              0,
              "#0d0887"
             ],
             [
              0.1111111111111111,
              "#46039f"
             ],
             [
              0.2222222222222222,
              "#7201a8"
             ],
             [
              0.3333333333333333,
              "#9c179e"
             ],
             [
              0.4444444444444444,
              "#bd3786"
             ],
             [
              0.5555555555555556,
              "#d8576b"
             ],
             [
              0.6666666666666666,
              "#ed7953"
             ],
             [
              0.7777777777777778,
              "#fb9f3a"
             ],
             [
              0.8888888888888888,
              "#fdca26"
             ],
             [
              1,
              "#f0f921"
             ]
            ],
            "type": "heatmap"
           }
          ],
          "heatmapgl": [
           {
            "colorbar": {
             "outlinewidth": 0,
             "ticks": ""
            },
            "colorscale": [
             [
              0,
              "#0d0887"
             ],
             [
              0.1111111111111111,
              "#46039f"
             ],
             [
              0.2222222222222222,
              "#7201a8"
             ],
             [
              0.3333333333333333,
              "#9c179e"
             ],
             [
              0.4444444444444444,
              "#bd3786"
             ],
             [
              0.5555555555555556,
              "#d8576b"
             ],
             [
              0.6666666666666666,
              "#ed7953"
             ],
             [
              0.7777777777777778,
              "#fb9f3a"
             ],
             [
              0.8888888888888888,
              "#fdca26"
             ],
             [
              1,
              "#f0f921"
             ]
            ],
            "type": "heatmapgl"
           }
          ],
          "histogram": [
           {
            "marker": {
             "pattern": {
              "fillmode": "overlay",
              "size": 10,
              "solidity": 0.2
             }
            },
            "type": "histogram"
           }
          ],
          "histogram2d": [
           {
            "colorbar": {
             "outlinewidth": 0,
             "ticks": ""
            },
            "colorscale": [
             [
              0,
              "#0d0887"
             ],
             [
              0.1111111111111111,
              "#46039f"
             ],
             [
              0.2222222222222222,
              "#7201a8"
             ],
             [
              0.3333333333333333,
              "#9c179e"
             ],
             [
              0.4444444444444444,
              "#bd3786"
             ],
             [
              0.5555555555555556,
              "#d8576b"
             ],
             [
              0.6666666666666666,
              "#ed7953"
             ],
             [
              0.7777777777777778,
              "#fb9f3a"
             ],
             [
              0.8888888888888888,
              "#fdca26"
             ],
             [
              1,
              "#f0f921"
             ]
            ],
            "type": "histogram2d"
           }
          ],
          "histogram2dcontour": [
           {
            "colorbar": {
             "outlinewidth": 0,
             "ticks": ""
            },
            "colorscale": [
             [
              0,
              "#0d0887"
             ],
             [
              0.1111111111111111,
              "#46039f"
             ],
             [
              0.2222222222222222,
              "#7201a8"
             ],
             [
              0.3333333333333333,
              "#9c179e"
             ],
             [
              0.4444444444444444,
              "#bd3786"
             ],
             [
              0.5555555555555556,
              "#d8576b"
             ],
             [
              0.6666666666666666,
              "#ed7953"
             ],
             [
              0.7777777777777778,
              "#fb9f3a"
             ],
             [
              0.8888888888888888,
              "#fdca26"
             ],
             [
              1,
              "#f0f921"
             ]
            ],
            "type": "histogram2dcontour"
           }
          ],
          "mesh3d": [
           {
            "colorbar": {
             "outlinewidth": 0,
             "ticks": ""
            },
            "type": "mesh3d"
           }
          ],
          "parcoords": [
           {
            "line": {
             "colorbar": {
              "outlinewidth": 0,
              "ticks": ""
             }
            },
            "type": "parcoords"
           }
          ],
          "pie": [
           {
            "automargin": true,
            "type": "pie"
           }
          ],
          "scatter": [
           {
            "fillpattern": {
             "fillmode": "overlay",
             "size": 10,
             "solidity": 0.2
            },
            "type": "scatter"
           }
          ],
          "scatter3d": [
           {
            "line": {
             "colorbar": {
              "outlinewidth": 0,
              "ticks": ""
             }
            },
            "marker": {
             "colorbar": {
              "outlinewidth": 0,
              "ticks": ""
             }
            },
            "type": "scatter3d"
           }
          ],
          "scattercarpet": [
           {
            "marker": {
             "colorbar": {
              "outlinewidth": 0,
              "ticks": ""
             }
            },
            "type": "scattercarpet"
           }
          ],
          "scattergeo": [
           {
            "marker": {
             "colorbar": {
              "outlinewidth": 0,
              "ticks": ""
             }
            },
            "type": "scattergeo"
           }
          ],
          "scattergl": [
           {
            "marker": {
             "colorbar": {
              "outlinewidth": 0,
              "ticks": ""
             }
            },
            "type": "scattergl"
           }
          ],
          "scattermapbox": [
           {
            "marker": {
             "colorbar": {
              "outlinewidth": 0,
              "ticks": ""
             }
            },
            "type": "scattermapbox"
           }
          ],
          "scatterpolar": [
           {
            "marker": {
             "colorbar": {
              "outlinewidth": 0,
              "ticks": ""
             }
            },
            "type": "scatterpolar"
           }
          ],
          "scatterpolargl": [
           {
            "marker": {
             "colorbar": {
              "outlinewidth": 0,
              "ticks": ""
             }
            },
            "type": "scatterpolargl"
           }
          ],
          "scatterternary": [
           {
            "marker": {
             "colorbar": {
              "outlinewidth": 0,
              "ticks": ""
             }
            },
            "type": "scatterternary"
           }
          ],
          "surface": [
           {
            "colorbar": {
             "outlinewidth": 0,
             "ticks": ""
            },
            "colorscale": [
             [
              0,
              "#0d0887"
             ],
             [
              0.1111111111111111,
              "#46039f"
             ],
             [
              0.2222222222222222,
              "#7201a8"
             ],
             [
              0.3333333333333333,
              "#9c179e"
             ],
             [
              0.4444444444444444,
              "#bd3786"
             ],
             [
              0.5555555555555556,
              "#d8576b"
             ],
             [
              0.6666666666666666,
              "#ed7953"
             ],
             [
              0.7777777777777778,
              "#fb9f3a"
             ],
             [
              0.8888888888888888,
              "#fdca26"
             ],
             [
              1,
              "#f0f921"
             ]
            ],
            "type": "surface"
           }
          ],
          "table": [
           {
            "cells": {
             "fill": {
              "color": "#EBF0F8"
             },
             "line": {
              "color": "white"
             }
            },
            "header": {
             "fill": {
              "color": "#C8D4E3"
             },
             "line": {
              "color": "white"
             }
            },
            "type": "table"
           }
          ]
         },
         "layout": {
          "annotationdefaults": {
           "arrowcolor": "#2a3f5f",
           "arrowhead": 0,
           "arrowwidth": 1
          },
          "autotypenumbers": "strict",
          "coloraxis": {
           "colorbar": {
            "outlinewidth": 0,
            "ticks": ""
           }
          },
          "colorscale": {
           "diverging": [
            [
             0,
             "#8e0152"
            ],
            [
             0.1,
             "#c51b7d"
            ],
            [
             0.2,
             "#de77ae"
            ],
            [
             0.3,
             "#f1b6da"
            ],
            [
             0.4,
             "#fde0ef"
            ],
            [
             0.5,
             "#f7f7f7"
            ],
            [
             0.6,
             "#e6f5d0"
            ],
            [
             0.7,
             "#b8e186"
            ],
            [
             0.8,
             "#7fbc41"
            ],
            [
             0.9,
             "#4d9221"
            ],
            [
             1,
             "#276419"
            ]
           ],
           "sequential": [
            [
             0,
             "#0d0887"
            ],
            [
             0.1111111111111111,
             "#46039f"
            ],
            [
             0.2222222222222222,
             "#7201a8"
            ],
            [
             0.3333333333333333,
             "#9c179e"
            ],
            [
             0.4444444444444444,
             "#bd3786"
            ],
            [
             0.5555555555555556,
             "#d8576b"
            ],
            [
             0.6666666666666666,
             "#ed7953"
            ],
            [
             0.7777777777777778,
             "#fb9f3a"
            ],
            [
             0.8888888888888888,
             "#fdca26"
            ],
            [
             1,
             "#f0f921"
            ]
           ],
           "sequentialminus": [
            [
             0,
             "#0d0887"
            ],
            [
             0.1111111111111111,
             "#46039f"
            ],
            [
             0.2222222222222222,
             "#7201a8"
            ],
            [
             0.3333333333333333,
             "#9c179e"
            ],
            [
             0.4444444444444444,
             "#bd3786"
            ],
            [
             0.5555555555555556,
             "#d8576b"
            ],
            [
             0.6666666666666666,
             "#ed7953"
            ],
            [
             0.7777777777777778,
             "#fb9f3a"
            ],
            [
             0.8888888888888888,
             "#fdca26"
            ],
            [
             1,
             "#f0f921"
            ]
           ]
          },
          "colorway": [
           "#636efa",
           "#EF553B",
           "#00cc96",
           "#ab63fa",
           "#FFA15A",
           "#19d3f3",
           "#FF6692",
           "#B6E880",
           "#FF97FF",
           "#FECB52"
          ],
          "font": {
           "color": "#2a3f5f"
          },
          "geo": {
           "bgcolor": "white",
           "lakecolor": "white",
           "landcolor": "white",
           "showlakes": true,
           "showland": true,
           "subunitcolor": "#C8D4E3"
          },
          "hoverlabel": {
           "align": "left"
          },
          "hovermode": "closest",
          "mapbox": {
           "style": "light"
          },
          "paper_bgcolor": "white",
          "plot_bgcolor": "white",
          "polar": {
           "angularaxis": {
            "gridcolor": "#EBF0F8",
            "linecolor": "#EBF0F8",
            "ticks": ""
           },
           "bgcolor": "white",
           "radialaxis": {
            "gridcolor": "#EBF0F8",
            "linecolor": "#EBF0F8",
            "ticks": ""
           }
          },
          "scene": {
           "xaxis": {
            "backgroundcolor": "white",
            "gridcolor": "#DFE8F3",
            "gridwidth": 2,
            "linecolor": "#EBF0F8",
            "showbackground": true,
            "ticks": "",
            "zerolinecolor": "#EBF0F8"
           },
           "yaxis": {
            "backgroundcolor": "white",
            "gridcolor": "#DFE8F3",
            "gridwidth": 2,
            "linecolor": "#EBF0F8",
            "showbackground": true,
            "ticks": "",
            "zerolinecolor": "#EBF0F8"
           },
           "zaxis": {
            "backgroundcolor": "white",
            "gridcolor": "#DFE8F3",
            "gridwidth": 2,
            "linecolor": "#EBF0F8",
            "showbackground": true,
            "ticks": "",
            "zerolinecolor": "#EBF0F8"
           }
          },
          "shapedefaults": {
           "line": {
            "color": "#2a3f5f"
           }
          },
          "ternary": {
           "aaxis": {
            "gridcolor": "#DFE8F3",
            "linecolor": "#A2B1C6",
            "ticks": ""
           },
           "baxis": {
            "gridcolor": "#DFE8F3",
            "linecolor": "#A2B1C6",
            "ticks": ""
           },
           "bgcolor": "white",
           "caxis": {
            "gridcolor": "#DFE8F3",
            "linecolor": "#A2B1C6",
            "ticks": ""
           }
          },
          "title": {
           "x": 0.05
          },
          "xaxis": {
           "automargin": true,
           "gridcolor": "#EBF0F8",
           "linecolor": "#EBF0F8",
           "ticks": "",
           "title": {
            "standoff": 15
           },
           "zerolinecolor": "#EBF0F8",
           "zerolinewidth": 2
          },
          "yaxis": {
           "automargin": true,
           "gridcolor": "#EBF0F8",
           "linecolor": "#EBF0F8",
           "ticks": "",
           "title": {
            "standoff": 15
           },
           "zerolinecolor": "#EBF0F8",
           "zerolinewidth": 2
          }
         }
        },
        "title": {
         "text": "Aspect vs Sentiment"
        },
        "xaxis": {
         "anchor": "y",
         "domain": [
          0,
          1
         ],
         "title": {
          "text": "aspect"
         }
        },
        "yaxis": {
         "anchor": "x",
         "domain": [
          0,
          1
         ],
         "title": {
          "text": "count"
         }
        }
       }
      }
     },
     "metadata": {},
     "output_type": "display_data"
    }
   ],
   "source": [
    "import plotly.express as px\n",
    "\n",
    "fig = px.bar(\n",
    "    analysis_df,\n",
    "    x=\"aspect\",\n",
    "    color=\"sentiment\",\n",
    "    barmode=\"stack\",\n",
    "    color_discrete_map={\n",
    "        \"positive\": \"#52AC5E\",\n",
    "        \"negative\": \"#e34a2d\",\n",
    "        \"neutral\": \"gray\",\n",
    "    },\n",
    "    title=\"Aspect vs Sentiment\",\n",
    "    template=\"plotly_white\",\n",
    ")\n",
    "\n",
    "fig.show()\n"
   ]
  },
  {
   "cell_type": "markdown",
   "metadata": {},
   "source": [
    "#### Display results in console\n",
    "\n",
    "This will display the annotated feedbacks in the console."
   ]
  },
  {
   "cell_type": "code",
   "execution_count": 11,
   "metadata": {},
   "outputs": [
    {
     "data": {
      "text/html": [
       "<pre style=\"white-space:pre;overflow-x:auto;line-height:normal;font-family:Menlo,'DejaVu Sans Mono',consolas,'Courier New',monospace\">Pretty good\n",
       "\n",
       " <span style=\"color: #c0c0c0; text-decoration-color: #c0c0c0; background-color: #008000; font-weight: bold\">I like deep cleaning and this vacuum allows that for sure</span> <span style=\"font-weight: bold\">(</span><span style=\"color: #ffaf00; text-decoration-color: #ffaf00\">Cleaning</span><span style=\"font-weight: bold\">)</span>.  <span style=\"color: #c0c0c0; text-decoration-color: #c0c0c0; background-color: #008000; font-weight: bold\">Has great suction</span> <span style=\"font-weight: bold\">(</span><span style=\"color: #ffaf00; text-decoration-color: #ffaf00\">Suction</span><span style=\"font-weight: bold\">)</span> and  <span style=\"color: #c0c0c0; text-decoration-color: #c0c0c0; background-color: #008000; font-weight: bold\">the </span>\n",
       "<span style=\"color: #c0c0c0; text-decoration-color: #c0c0c0; background-color: #008000; font-weight: bold\">attachments work well</span> <span style=\"font-weight: bold\">(</span><span style=\"color: #ffaf00; text-decoration-color: #ffaf00\">Attachments</span><span style=\"font-weight: bold\">)</span>.  <span style=\"color: #c0c0c0; text-decoration-color: #c0c0c0; background-color: #800000; font-weight: bold\">It seems a little on the heavy side but it’s alright</span> <span style=\"font-weight: bold\">(</span><span style=\"color: #ffaf00; text-decoration-color: #ffaf00\">Weight</span><span style=\"font-weight: bold\">)</span>.  <span style=\"color: #c0c0c0; text-decoration-color: #c0c0c0; background-color: #008000; font-weight: bold\">Fluffs up the</span>\n",
       "<span style=\"color: #c0c0c0; text-decoration-color: #c0c0c0; background-color: #008000; font-weight: bold\">carpet nicely</span> <span style=\"font-weight: bold\">(</span><span style=\"color: #ffaf00; text-decoration-color: #ffaf00\">Carpet</span><span style=\"font-weight: bold\">)</span> and  <span style=\"color: #c0c0c0; text-decoration-color: #c0c0c0; background-color: #008000; font-weight: bold\">easy to keep clean</span> <span style=\"font-weight: bold\">(</span><span style=\"color: #ffaf00; text-decoration-color: #ffaf00\">Maintenance</span><span style=\"font-weight: bold\">)</span>.\n",
       "</pre>\n"
      ],
      "text/plain": [
       "Pretty good\n",
       "\n",
       " \u001b[1;37;42mI like deep cleaning and this vacuum allows that for sure\u001b[0m \u001b[1m(\u001b[0m\u001b[38;5;214mCleaning\u001b[0m\u001b[1m)\u001b[0m.  \u001b[1;37;42mHas great suction\u001b[0m \u001b[1m(\u001b[0m\u001b[38;5;214mSuction\u001b[0m\u001b[1m)\u001b[0m and  \u001b[1;37;42mthe \u001b[0m\n",
       "\u001b[1;37;42mattachments work well\u001b[0m \u001b[1m(\u001b[0m\u001b[38;5;214mAttachments\u001b[0m\u001b[1m)\u001b[0m.  \u001b[1;37;41mIt seems a little on the heavy side but it’s alright\u001b[0m \u001b[1m(\u001b[0m\u001b[38;5;214mWeight\u001b[0m\u001b[1m)\u001b[0m.  \u001b[1;37;42mFluffs up the\u001b[0m\n",
       "\u001b[1;37;42mcarpet nicely\u001b[0m \u001b[1m(\u001b[0m\u001b[38;5;214mCarpet\u001b[0m\u001b[1m)\u001b[0m and  \u001b[1;37;42measy to keep clean\u001b[0m \u001b[1m(\u001b[0m\u001b[38;5;214mMaintenance\u001b[0m\u001b[1m)\u001b[0m.\n"
      ]
     },
     "metadata": {},
     "output_type": "display_data"
    },
    {
     "data": {
      "text/html": [
       "<pre style=\"white-space:pre;overflow-x:auto;line-height:normal;font-family:Menlo,'DejaVu Sans Mono',consolas,'Courier New',monospace\">Great Vaccum!\n",
       "\n",
       " <span style=\"color: #c0c0c0; text-decoration-color: #c0c0c0; background-color: #008000; font-weight: bold\">This vacuum works exactly like I wanted it to</span> <span style=\"font-weight: bold\">(</span><span style=\"color: #ffaf00; text-decoration-color: #ffaf00\">Overall satisfaction</span><span style=\"font-weight: bold\">)</span>.   <span style=\"color: #c0c0c0; text-decoration-color: #c0c0c0; background-color: #008000; font-weight: bold\">It picks up everything</span> <span style=\"font-weight: bold\">(</span><span style=\"color: #ffaf00; text-decoration-color: #ffaf00\">Performance</span><span style=\"font-weight: bold\">)</span>.\n",
       "</pre>\n"
      ],
      "text/plain": [
       "Great Vaccum!\n",
       "\n",
       " \u001b[1;37;42mThis vacuum works exactly like I wanted it to\u001b[0m \u001b[1m(\u001b[0m\u001b[38;5;214mOverall satisfaction\u001b[0m\u001b[1m)\u001b[0m.   \u001b[1;37;42mIt picks up everything\u001b[0m \u001b[1m(\u001b[0m\u001b[38;5;214mPerformance\u001b[0m\u001b[1m)\u001b[0m.\n"
      ]
     },
     "metadata": {},
     "output_type": "display_data"
    },
    {
     "data": {
      "text/html": [
       "<pre style=\"white-space:pre;overflow-x:auto;line-height:normal;font-family:Menlo,'DejaVu Sans Mono',consolas,'Courier New',monospace\">Does the job\n",
       "\n",
       " <span style=\"color: #c0c0c0; text-decoration-color: #c0c0c0; background-color: #008000; font-weight: bold\">Very good budget vacuum</span> <span style=\"font-weight: bold\">(</span><span style=\"color: #ffaf00; text-decoration-color: #ffaf00\">Overall satisfaction</span><span style=\"font-weight: bold\">)</span>.  <span style=\"color: #c0c0c0; text-decoration-color: #c0c0c0; background-color: #008000; font-weight: bold\">Cleans very well</span> <span style=\"font-weight: bold\">(</span><span style=\"color: #ffaf00; text-decoration-color: #ffaf00\">Cleaning</span><span style=\"font-weight: bold\">)</span>.  <span style=\"color: #c0c0c0; text-decoration-color: #c0c0c0; background-color: #800000; font-weight: bold\">Does not fit under the couch</span> <span style=\"font-weight: bold\">(</span><span style=\"color: #ffaf00; text-decoration-color: #ffaf00\">Size</span><span style=\"font-weight: bold\">)</span>\n",
       "and  <span style=\"color: #c0c0c0; text-decoration-color: #c0c0c0; background-color: #800000; font-weight: bold\">I did not think to get a retractable cord, I wish I had</span> <span style=\"font-weight: bold\">(</span><span style=\"color: #ffaf00; text-decoration-color: #ffaf00\">Cord</span><span style=\"font-weight: bold\">)</span>. But over all, its a very good vacuum cleaner. \n",
       "<span style=\"color: #c0c0c0; text-decoration-color: #c0c0c0; background-color: #008000; font-weight: bold\">Sucked ups a cup of dirt in seconds that I robot left behind</span> <span style=\"font-weight: bold\">(</span><span style=\"color: #ffaf00; text-decoration-color: #ffaf00\">Comparison</span><span style=\"font-weight: bold\">)</span>.\n",
       "</pre>\n"
      ],
      "text/plain": [
       "Does the job\n",
       "\n",
       " \u001b[1;37;42mVery good budget vacuum\u001b[0m \u001b[1m(\u001b[0m\u001b[38;5;214mOverall satisfaction\u001b[0m\u001b[1m)\u001b[0m.  \u001b[1;37;42mCleans very well\u001b[0m \u001b[1m(\u001b[0m\u001b[38;5;214mCleaning\u001b[0m\u001b[1m)\u001b[0m.  \u001b[1;37;41mDoes not fit under the couch\u001b[0m \u001b[1m(\u001b[0m\u001b[38;5;214mSize\u001b[0m\u001b[1m)\u001b[0m\n",
       "and  \u001b[1;37;41mI did not think to get a retractable cord, I wish I had\u001b[0m \u001b[1m(\u001b[0m\u001b[38;5;214mCord\u001b[0m\u001b[1m)\u001b[0m. But over all, its a very good vacuum cleaner. \n",
       "\u001b[1;37;42mSucked ups a cup of dirt in seconds that I robot left behind\u001b[0m \u001b[1m(\u001b[0m\u001b[38;5;214mComparison\u001b[0m\u001b[1m)\u001b[0m.\n"
      ]
     },
     "metadata": {},
     "output_type": "display_data"
    },
    {
     "data": {
      "text/html": [
       "<pre style=\"white-space:pre;overflow-x:auto;line-height:normal;font-family:Menlo,'DejaVu Sans Mono',consolas,'Courier New',monospace\">Bissell<span style=\"color: #808000; text-decoration-color: #808000\">...</span> Dog hair<span style=\"color: #808000; text-decoration-color: #808000\">...</span> Bissell WON!!!\n",
       "\n",
       " <span style=\"color: #c0c0c0; text-decoration-color: #c0c0c0; background-color: #008000; font-weight: bold\">It has great suction</span> <span style=\"font-weight: bold\">(</span><span style=\"color: #ffaf00; text-decoration-color: #ffaf00\">Suction</span><span style=\"font-weight: bold\">)</span> but when it started to suck my sheet up  <span style=\"color: #c0c0c0; text-decoration-color: #c0c0c0; background-color: #800000; font-weight: bold\">it started to smoke a little</span> <span style=\"font-weight: bold\">(</span><span style=\"color: #ffaf00; text-decoration-color: #ffaf00\">Smoking</span><span style=\"font-weight: bold\">)</span>, \n",
       "luckily the sheet was very easy to remove. The smoke stopped and most like was from the friction of the sheet.\n",
       "</pre>\n"
      ],
      "text/plain": [
       "Bissell\u001b[33m...\u001b[0m Dog hair\u001b[33m...\u001b[0m Bissell WON!!!\n",
       "\n",
       " \u001b[1;37;42mIt has great suction\u001b[0m \u001b[1m(\u001b[0m\u001b[38;5;214mSuction\u001b[0m\u001b[1m)\u001b[0m but when it started to suck my sheet up  \u001b[1;37;41mit started to smoke a little\u001b[0m \u001b[1m(\u001b[0m\u001b[38;5;214mSmoking\u001b[0m\u001b[1m)\u001b[0m, \n",
       "luckily the sheet was very easy to remove. The smoke stopped and most like was from the friction of the sheet.\n"
      ]
     },
     "metadata": {},
     "output_type": "display_data"
    },
    {
     "data": {
      "text/html": [
       "<pre style=\"white-space:pre;overflow-x:auto;line-height:normal;font-family:Menlo,'DejaVu Sans Mono',consolas,'Courier New',monospace\">Great vaccum for the price\n",
       "\n",
       "Such great suction on this vacuum. It manages to pickup so much first and hair from my carpets\n",
       "</pre>\n"
      ],
      "text/plain": [
       "Great vaccum for the price\n",
       "\n",
       "Such great suction on this vacuum. It manages to pickup so much first and hair from my carpets\n"
      ]
     },
     "metadata": {},
     "output_type": "display_data"
    },
    {
     "data": {
      "text/html": [
       "<pre style=\"white-space:pre;overflow-x:auto;line-height:normal;font-family:Menlo,'DejaVu Sans Mono',consolas,'Courier New',monospace\">Great value\n",
       "\n",
       " <span style=\"color: #c0c0c0; text-decoration-color: #c0c0c0; background-color: #008000; font-weight: bold\">I love this</span> <span style=\"font-weight: bold\">(</span><span style=\"color: #ffaf00; text-decoration-color: #ffaf00\">Overall satisfaction</span><span style=\"font-weight: bold\">)</span>.  I have <span style=\"color: #008080; text-decoration-color: #008080; font-weight: bold\">2</span> dogs and  <span style=\"color: #c0c0c0; text-decoration-color: #c0c0c0; background-color: #008000; font-weight: bold\">it doesn't clog up</span> <span style=\"font-weight: bold\">(</span><span style=\"color: #ffaf00; text-decoration-color: #ffaf00\">Hair</span><span style=\"font-weight: bold\">)</span>. Fantastic.  <span style=\"color: #c0c0c0; text-decoration-color: #c0c0c0; background-color: #008000; font-weight: bold\">Best vacuum I've </span>\n",
       "<span style=\"color: #c0c0c0; text-decoration-color: #c0c0c0; background-color: #008000; font-weight: bold\">owned</span> <span style=\"font-weight: bold\">(</span><span style=\"color: #ffaf00; text-decoration-color: #ffaf00\">Comparison</span><span style=\"font-weight: bold\">)</span>\n",
       "</pre>\n"
      ],
      "text/plain": [
       "Great value\n",
       "\n",
       " \u001b[1;37;42mI love this\u001b[0m \u001b[1m(\u001b[0m\u001b[38;5;214mOverall satisfaction\u001b[0m\u001b[1m)\u001b[0m.  I have \u001b[1;36m2\u001b[0m dogs and  \u001b[1;37;42mit doesn't clog up\u001b[0m \u001b[1m(\u001b[0m\u001b[38;5;214mHair\u001b[0m\u001b[1m)\u001b[0m. Fantastic.  \u001b[1;37;42mBest vacuum I've \u001b[0m\n",
       "\u001b[1;37;42mowned\u001b[0m \u001b[1m(\u001b[0m\u001b[38;5;214mComparison\u001b[0m\u001b[1m)\u001b[0m\n"
      ]
     },
     "metadata": {},
     "output_type": "display_data"
    },
    {
     "data": {
      "text/html": [
       "<pre style=\"white-space:pre;overflow-x:auto;line-height:normal;font-family:Menlo,'DejaVu Sans Mono',consolas,'Courier New',monospace\">Práctica y eficiente\n",
       "\n",
       " <span style=\"color: #c0c0c0; text-decoration-color: #c0c0c0; background-color: #008000; font-weight: bold\">Trabaja muy bien</span> <span style=\"font-weight: bold\">(</span><span style=\"color: #ffaf00; text-decoration-color: #ffaf00\">Overall satisfaction</span><span style=\"font-weight: bold\">)</span>,  <span style=\"color: #c0c0c0; text-decoration-color: #c0c0c0; background-color: #008000; font-weight: bold\">fácil de limpiar los filtros</span> <span style=\"font-weight: bold\">(</span><span style=\"color: #ffaf00; text-decoration-color: #ffaf00\">Ease of cleaning</span><span style=\"font-weight: bold\">)</span>,  <span style=\"color: #c0c0c0; text-decoration-color: #c0c0c0; background-color: #800000; font-weight: bold\">no es muy liviana</span> \n",
       "<span style=\"font-weight: bold\">(</span><span style=\"color: #ffaf00; text-decoration-color: #ffaf00\">Weight</span><span style=\"font-weight: bold\">)</span> pero no afecta al trabajar  <span style=\"color: #c0c0c0; text-decoration-color: #c0c0c0; background-color: #008000; font-weight: bold\">bonito color</span> <span style=\"font-weight: bold\">(</span><span style=\"color: #ffaf00; text-decoration-color: #ffaf00\">Appearance</span><span style=\"font-weight: bold\">)</span>\n",
       "</pre>\n"
      ],
      "text/plain": [
       "Práctica y eficiente\n",
       "\n",
       " \u001b[1;37;42mTrabaja muy bien\u001b[0m \u001b[1m(\u001b[0m\u001b[38;5;214mOverall satisfaction\u001b[0m\u001b[1m)\u001b[0m,  \u001b[1;37;42mfácil de limpiar los filtros\u001b[0m \u001b[1m(\u001b[0m\u001b[38;5;214mEase of cleaning\u001b[0m\u001b[1m)\u001b[0m,  \u001b[1;37;41mno es muy liviana\u001b[0m \n",
       "\u001b[1m(\u001b[0m\u001b[38;5;214mWeight\u001b[0m\u001b[1m)\u001b[0m pero no afecta al trabajar  \u001b[1;37;42mbonito color\u001b[0m \u001b[1m(\u001b[0m\u001b[38;5;214mAppearance\u001b[0m\u001b[1m)\u001b[0m\n"
      ]
     },
     "metadata": {},
     "output_type": "display_data"
    },
    {
     "data": {
      "text/html": [
       "<pre style=\"white-space:pre;overflow-x:auto;line-height:normal;font-family:Menlo,'DejaVu Sans Mono',consolas,'Courier New',monospace\">Excellent appliance\n",
       "\n",
       " <span style=\"color: #c0c0c0; text-decoration-color: #c0c0c0; background-color: #008000; font-weight: bold\">This vacuum is so great</span> <span style=\"font-weight: bold\">(</span><span style=\"color: #ffaf00; text-decoration-color: #ffaf00\">Overall satisfaction</span><span style=\"font-weight: bold\">)</span>  <span style=\"color: #c0c0c0; text-decoration-color: #c0c0c0; background-color: #008000; font-weight: bold\">even the cleaning lady raves about it</span> <span style=\"font-weight: bold\">(</span><span style=\"color: #ffaf00; text-decoration-color: #ffaf00\">Cleaning lady's opinion</span><span style=\"font-weight: bold\">)</span>.  \n",
       "<span style=\"color: #c0c0c0; text-decoration-color: #c0c0c0; background-color: #008000; font-weight: bold\">She has a vacuum but only uses ours</span> <span style=\"font-weight: bold\">(</span><span style=\"color: #ffaf00; text-decoration-color: #ffaf00\">Cleaning lady's vacuum</span><span style=\"font-weight: bold\">)</span>.\n",
       "</pre>\n"
      ],
      "text/plain": [
       "Excellent appliance\n",
       "\n",
       " \u001b[1;37;42mThis vacuum is so great\u001b[0m \u001b[1m(\u001b[0m\u001b[38;5;214mOverall satisfaction\u001b[0m\u001b[1m)\u001b[0m  \u001b[1;37;42meven the cleaning lady raves about it\u001b[0m \u001b[1m(\u001b[0m\u001b[38;5;214mCleaning lady's opinion\u001b[0m\u001b[1m)\u001b[0m.  \n",
       "\u001b[1;37;42mShe has a vacuum but only uses ours\u001b[0m \u001b[1m(\u001b[0m\u001b[38;5;214mCleaning lady's vacuum\u001b[0m\u001b[1m)\u001b[0m.\n"
      ]
     },
     "metadata": {},
     "output_type": "display_data"
    },
    {
     "data": {
      "text/html": [
       "<pre style=\"white-space:pre;overflow-x:auto;line-height:normal;font-family:Menlo,'DejaVu Sans Mono',consolas,'Courier New',monospace\">From a Shark to a Bissell!!!\n",
       "\n",
       "I was a shark believer, and i still like their vacuums.  But  <span style=\"color: #c0c0c0; text-decoration-color: #c0c0c0; background-color: #800000; font-weight: bold\">after having to replace ours </span><span style=\"color: #c0c0c0; text-decoration-color: #c0c0c0; background-color: #800000; font-weight: bold\">3</span><span style=\"color: #c0c0c0; text-decoration-color: #c0c0c0; background-color: #800000; font-weight: bold\"> times in the last </span><span style=\"color: #c0c0c0; text-decoration-color: #c0c0c0; background-color: #800000; font-weight: bold\">5</span><span style=\"color: #c0c0c0; text-decoration-color: #c0c0c0; background-color: #800000; font-weight: bold\"> </span>\n",
       "<span style=\"color: #c0c0c0; text-decoration-color: #c0c0c0; background-color: #800000; font-weight: bold\">years</span> <span style=\"font-weight: bold\">(</span><span style=\"color: #ffaf00; text-decoration-color: #ffaf00\">Reliability</span><span style=\"font-weight: bold\">)</span>, it was time to try something different.   <span style=\"color: #c0c0c0; text-decoration-color: #c0c0c0; background-color: #008000; font-weight: bold\">This vacuum has surpassed my expectations</span> \n",
       "<span style=\"font-weight: bold\">(</span><span style=\"color: #ffaf00; text-decoration-color: #ffaf00\">Performance</span><span style=\"font-weight: bold\">)</span> and i love it.   <span style=\"color: #c0c0c0; text-decoration-color: #c0c0c0; background-color: #008000; font-weight: bold\">i hope it lasts forever!</span> <span style=\"font-weight: bold\">(</span><span style=\"color: #ffaf00; text-decoration-color: #ffaf00\">Longevity</span><span style=\"font-weight: bold\">)</span>\n",
       "</pre>\n"
      ],
      "text/plain": [
       "From a Shark to a Bissell!!!\n",
       "\n",
       "I was a shark believer, and i still like their vacuums.  But  \u001b[1;37;41mafter having to replace ours \u001b[0m\u001b[1;37;41m3\u001b[0m\u001b[1;37;41m times in the last \u001b[0m\u001b[1;37;41m5\u001b[0m\u001b[1;37;41m \u001b[0m\n",
       "\u001b[1;37;41myears\u001b[0m \u001b[1m(\u001b[0m\u001b[38;5;214mReliability\u001b[0m\u001b[1m)\u001b[0m, it was time to try something different.   \u001b[1;37;42mThis vacuum has surpassed my expectations\u001b[0m \n",
       "\u001b[1m(\u001b[0m\u001b[38;5;214mPerformance\u001b[0m\u001b[1m)\u001b[0m and i love it.   \u001b[1;37;42mi hope it lasts forever!\u001b[0m \u001b[1m(\u001b[0m\u001b[38;5;214mLongevity\u001b[0m\u001b[1m)\u001b[0m\n"
      ]
     },
     "metadata": {},
     "output_type": "display_data"
    },
    {
     "data": {
      "text/html": [
       "<pre style=\"white-space:pre;overflow-x:auto;line-height:normal;font-family:Menlo,'DejaVu Sans Mono',consolas,'Courier New',monospace\">Práctica y eficiente\n",
       "\n",
       " <span style=\"color: #c0c0c0; text-decoration-color: #c0c0c0; background-color: #008000; font-weight: bold\">Trabaja muy bien</span> <span style=\"font-weight: bold\">(</span><span style=\"color: #ffaf00; text-decoration-color: #ffaf00\">Overall satisfaction</span><span style=\"font-weight: bold\">)</span>,  <span style=\"color: #c0c0c0; text-decoration-color: #c0c0c0; background-color: #008000; font-weight: bold\">fácil de limpiar los filtros</span> <span style=\"font-weight: bold\">(</span><span style=\"color: #ffaf00; text-decoration-color: #ffaf00\">Ease of cleaning</span><span style=\"font-weight: bold\">)</span>,  <span style=\"color: #c0c0c0; text-decoration-color: #c0c0c0; background-color: #800000; font-weight: bold\">no es muy liviana</span> \n",
       "<span style=\"font-weight: bold\">(</span><span style=\"color: #ffaf00; text-decoration-color: #ffaf00\">Weight</span><span style=\"font-weight: bold\">)</span> pero no afecta al trabajar  <span style=\"color: #c0c0c0; text-decoration-color: #c0c0c0; background-color: #008000; font-weight: bold\">bonito color</span> <span style=\"font-weight: bold\">(</span><span style=\"color: #ffaf00; text-decoration-color: #ffaf00\">Appearance</span><span style=\"font-weight: bold\">)</span>\n",
       "</pre>\n"
      ],
      "text/plain": [
       "Práctica y eficiente\n",
       "\n",
       " \u001b[1;37;42mTrabaja muy bien\u001b[0m \u001b[1m(\u001b[0m\u001b[38;5;214mOverall satisfaction\u001b[0m\u001b[1m)\u001b[0m,  \u001b[1;37;42mfácil de limpiar los filtros\u001b[0m \u001b[1m(\u001b[0m\u001b[38;5;214mEase of cleaning\u001b[0m\u001b[1m)\u001b[0m,  \u001b[1;37;41mno es muy liviana\u001b[0m \n",
       "\u001b[1m(\u001b[0m\u001b[38;5;214mWeight\u001b[0m\u001b[1m)\u001b[0m pero no afecta al trabajar  \u001b[1;37;42mbonito color\u001b[0m \u001b[1m(\u001b[0m\u001b[38;5;214mAppearance\u001b[0m\u001b[1m)\u001b[0m\n"
      ]
     },
     "metadata": {},
     "output_type": "display_data"
    },
    {
     "data": {
      "text/html": [
       "<pre style=\"white-space:pre;overflow-x:auto;line-height:normal;font-family:Menlo,'DejaVu Sans Mono',consolas,'Courier New',monospace\">I asked for a vacuum cleaner not sheet sucker\n",
       "\n",
       "Works great on pet hair\n",
       "</pre>\n"
      ],
      "text/plain": [
       "I asked for a vacuum cleaner not sheet sucker\n",
       "\n",
       "Works great on pet hair\n"
      ]
     },
     "metadata": {},
     "output_type": "display_data"
    },
    {
     "data": {
      "text/html": [
       "<pre style=\"white-space:pre;overflow-x:auto;line-height:normal;font-family:Menlo,'DejaVu Sans Mono',consolas,'Courier New',monospace\">Bissell CleanView Swivel Pet Reach Vacuum Cleaner\n",
       "\n",
       " <span style=\"color: #c0c0c0; text-decoration-color: #c0c0c0; background-color: #008000; font-weight: bold\">Easy to assemble</span> <span style=\"font-weight: bold\">(</span><span style=\"color: #ffaf00; text-decoration-color: #ffaf00\">Assembly</span><span style=\"font-weight: bold\">)</span>, and  <span style=\"color: #c0c0c0; text-decoration-color: #c0c0c0; background-color: #008000; font-weight: bold\">emptying tank is straight forward</span> <span style=\"font-weight: bold\">(</span><span style=\"color: #ffaf00; text-decoration-color: #ffaf00\">Emptying tank</span><span style=\"font-weight: bold\">)</span>. Used it to vacuum <span style=\"color: #008080; text-decoration-color: #008080; font-weight: bold\">1</span> room, and\n",
       "it filled the tank twice. Very impressed,  <span style=\"color: #c0c0c0; text-decoration-color: #c0c0c0; background-color: #008000; font-weight: bold\">awesome suction</span> <span style=\"font-weight: bold\">(</span><span style=\"color: #ffaf00; text-decoration-color: #ffaf00\">Suction</span><span style=\"font-weight: bold\">)</span>.  <span style=\"color: #c0c0c0; text-decoration-color: #c0c0c0; background-color: #008000; font-weight: bold\">Hopefully it will last</span> <span style=\"font-weight: bold\">(</span><span style=\"color: #ffaf00; text-decoration-color: #ffaf00\">Longevity</span><span style=\"font-weight: bold\">)</span>, but so \n",
       "far-so good.\n",
       "</pre>\n"
      ],
      "text/plain": [
       "Bissell CleanView Swivel Pet Reach Vacuum Cleaner\n",
       "\n",
       " \u001b[1;37;42mEasy to assemble\u001b[0m \u001b[1m(\u001b[0m\u001b[38;5;214mAssembly\u001b[0m\u001b[1m)\u001b[0m, and  \u001b[1;37;42memptying tank is straight forward\u001b[0m \u001b[1m(\u001b[0m\u001b[38;5;214mEmptying tank\u001b[0m\u001b[1m)\u001b[0m. Used it to vacuum \u001b[1;36m1\u001b[0m room, and\n",
       "it filled the tank twice. Very impressed,  \u001b[1;37;42mawesome suction\u001b[0m \u001b[1m(\u001b[0m\u001b[38;5;214mSuction\u001b[0m\u001b[1m)\u001b[0m.  \u001b[1;37;42mHopefully it will last\u001b[0m \u001b[1m(\u001b[0m\u001b[38;5;214mLongevity\u001b[0m\u001b[1m)\u001b[0m, but so \n",
       "far-so good.\n"
      ]
     },
     "metadata": {},
     "output_type": "display_data"
    },
    {
     "data": {
      "text/html": [
       "<pre style=\"white-space:pre;overflow-x:auto;line-height:normal;font-family:Menlo,'DejaVu Sans Mono',consolas,'Courier New',monospace\">Great Vaccum!\n",
       "\n",
       " <span style=\"color: #c0c0c0; text-decoration-color: #c0c0c0; background-color: #008000; font-weight: bold\">This vacuum works exactly like I wanted it to</span> <span style=\"font-weight: bold\">(</span><span style=\"color: #ffaf00; text-decoration-color: #ffaf00\">Overall satisfaction</span><span style=\"font-weight: bold\">)</span>.   <span style=\"color: #c0c0c0; text-decoration-color: #c0c0c0; background-color: #008000; font-weight: bold\">It picks up everything</span> <span style=\"font-weight: bold\">(</span><span style=\"color: #ffaf00; text-decoration-color: #ffaf00\">Performance</span><span style=\"font-weight: bold\">)</span>.\n",
       "</pre>\n"
      ],
      "text/plain": [
       "Great Vaccum!\n",
       "\n",
       " \u001b[1;37;42mThis vacuum works exactly like I wanted it to\u001b[0m \u001b[1m(\u001b[0m\u001b[38;5;214mOverall satisfaction\u001b[0m\u001b[1m)\u001b[0m.   \u001b[1;37;42mIt picks up everything\u001b[0m \u001b[1m(\u001b[0m\u001b[38;5;214mPerformance\u001b[0m\u001b[1m)\u001b[0m.\n"
      ]
     },
     "metadata": {},
     "output_type": "display_data"
    },
    {
     "data": {
      "text/html": [
       "<pre style=\"white-space:pre;overflow-x:auto;line-height:normal;font-family:Menlo,'DejaVu Sans Mono',consolas,'Courier New',monospace\">Great vaccum for the price\n",
       "\n",
       "Such great suction on this vacuum. It manages to pickup so much first and hair from my carpets\n",
       "</pre>\n"
      ],
      "text/plain": [
       "Great vaccum for the price\n",
       "\n",
       "Such great suction on this vacuum. It manages to pickup so much first and hair from my carpets\n"
      ]
     },
     "metadata": {},
     "output_type": "display_data"
    },
    {
     "data": {
      "text/html": [
       "<pre style=\"white-space:pre;overflow-x:auto;line-height:normal;font-family:Menlo,'DejaVu Sans Mono',consolas,'Courier New',monospace\">Picks up dog hair on all surfaces\n",
       "\n",
       " <span style=\"color: #c0c0c0; text-decoration-color: #c0c0c0; background-color: #008000; font-weight: bold\">Good suction</span> <span style=\"font-weight: bold\">(</span><span style=\"color: #ffaf00; text-decoration-color: #ffaf00\">Suction</span><span style=\"font-weight: bold\">)</span>,  <span style=\"color: #c0c0c0; text-decoration-color: #c0c0c0; background-color: #008000; font-weight: bold\">picks up dog hair, dirt, hay, etc.</span> <span style=\"font-weight: bold\">(</span><span style=\"color: #ffaf00; text-decoration-color: #ffaf00\">Picks up</span><span style=\"font-weight: bold\">)</span>  <span style=\"color: #c0c0c0; text-decoration-color: #c0c0c0; background-color: #008000; font-weight: bold\">Easy to empty canister.</span> <span style=\"font-weight: bold\">(</span><span style=\"color: #ffaf00; text-decoration-color: #ffaf00\">Canister</span><span style=\"font-weight: bold\">)</span>  <span style=\"color: #c0c0c0; text-decoration-color: #c0c0c0; background-color: #008000; font-weight: bold\">Easy </span>\n",
       "<span style=\"color: #c0c0c0; text-decoration-color: #c0c0c0; background-color: #008000; font-weight: bold\">to clean filter.</span> <span style=\"font-weight: bold\">(</span><span style=\"color: #ffaf00; text-decoration-color: #ffaf00\">Filter</span><span style=\"font-weight: bold\">)</span>  <span style=\"color: #c0c0c0; text-decoration-color: #c0c0c0; background-color: #800000; font-weight: bold\">Does get clogged, but easy to take apart and unclog, takes no time at all.</span> <span style=\"font-weight: bold\">(</span><span style=\"color: #ffaf00; text-decoration-color: #ffaf00\">Clogging</span><span style=\"font-weight: bold\">)</span>\n",
       "</pre>\n"
      ],
      "text/plain": [
       "Picks up dog hair on all surfaces\n",
       "\n",
       " \u001b[1;37;42mGood suction\u001b[0m \u001b[1m(\u001b[0m\u001b[38;5;214mSuction\u001b[0m\u001b[1m)\u001b[0m,  \u001b[1;37;42mpicks up dog hair, dirt, hay, etc.\u001b[0m \u001b[1m(\u001b[0m\u001b[38;5;214mPicks up\u001b[0m\u001b[1m)\u001b[0m  \u001b[1;37;42mEasy to empty canister.\u001b[0m \u001b[1m(\u001b[0m\u001b[38;5;214mCanister\u001b[0m\u001b[1m)\u001b[0m  \u001b[1;37;42mEasy \u001b[0m\n",
       "\u001b[1;37;42mto clean filter.\u001b[0m \u001b[1m(\u001b[0m\u001b[38;5;214mFilter\u001b[0m\u001b[1m)\u001b[0m  \u001b[1;37;41mDoes get clogged, but easy to take apart and unclog, takes no time at all.\u001b[0m \u001b[1m(\u001b[0m\u001b[38;5;214mClogging\u001b[0m\u001b[1m)\u001b[0m\n"
      ]
     },
     "metadata": {},
     "output_type": "display_data"
    }
   ],
   "source": [
    "from rich.console import Console\n",
    "\n",
    "console = Console()\n",
    "\n",
    "for i, review in enumerate(df.to_dict(\"records\")):\n",
    "    text = review[\"text\"]\n",
    "\n",
    "    try:\n",
    "\n",
    "        for ann in analysis_results[i]:\n",
    "            color = \"green\" if ann[\"sentiment\"] == \"positive\" else \"red\"\n",
    "            text = text.replace(\n",
    "                ann[\"segment\"],\n",
    "                f\" [bold white on {color}]{ann['segment']}[/bold white on {color}] ([orange1]{ann['aspect']}[/orange1])\",\n",
    "            )\n",
    "\n",
    "        console.print(f\"{review['title']}\\n\\n{text}\")\n",
    "\n",
    "    except Exception as e:\n",
    "        print(f\"Failed to parse {review['title']} {e}\")\n",
    "        continue\n"
   ]
  },
  {
   "cell_type": "markdown",
   "metadata": {},
   "source": [
    "#### Display results in HTML\n",
    "\n",
    "This will display the annotated feedbacks in a prettier way using HTML."
   ]
  },
  {
   "cell_type": "code",
   "execution_count": 12,
   "metadata": {},
   "outputs": [
    {
     "data": {
      "text/html": [
       "\n",
       "<style>\n",
       "    .container {\n",
       "        background-color: #fff;\n",
       "        padding: 15px\n",
       "    }\n",
       "\n",
       "    p.feedback {\n",
       "        margin-top: 5px;\n",
       "        color: #595f6d;\n",
       "        line-height: 2\n",
       "    }\n",
       "\n",
       "    h5.title {\n",
       "        color: #b6bcc8;\n",
       "        margin: 15px 0 0 0;\n",
       "        padding: 0;\n",
       "        font-style: italic;\n",
       "    }\n",
       "\n",
       "    .annotation {\n",
       "        color: #777;\n",
       "        padding: 2px;\n",
       "        font-weight: bold !important;\n",
       "        border-radius: 1px;\n",
       "        border-bottom: 4px solid;\n",
       "    }\n",
       "\n",
       "    .aspect {\n",
       "        color: #6eb2e7;\n",
       "        padding-left: 10px;\n",
       "        font-size: 12px;\n",
       "    }\n",
       "</style>\n",
       "\n",
       "\n",
       "            <div class='container'>\n",
       "                <h5 class='title'>Pretty good</h5>\n",
       "                <p class='feedback'><span class='annotation' style='border-color: #2bbf6d'>I like deep cleaning and this vacuum allows that for sure <span class='aspect'>Cleaning</span></span>. <span class='annotation' style='border-color: #2bbf6d'>Has great suction <span class='aspect'>Suction</span></span> and <span class='annotation' style='border-color: #2bbf6d'>the attachments work well <span class='aspect'>Attachments</span></span>. <span class='annotation' style='border-color: #cf2a43'>It seems a little on the heavy side but it’s alright <span class='aspect'>Weight</span></span>. <span class='annotation' style='border-color: #2bbf6d'>Fluffs up the carpet nicely <span class='aspect'>Carpet</span></span> and <span class='annotation' style='border-color: #2bbf6d'>easy to keep clean <span class='aspect'>Maintenance</span></span>.</p>\n",
       "            </div>\n",
       "        \n",
       "\n",
       "            <div class='container'>\n",
       "                <h5 class='title'>Great Vaccum!</h5>\n",
       "                <p class='feedback'><span class='annotation' style='border-color: #2bbf6d'>This vacuum works exactly like I wanted it to <span class='aspect'>Overall satisfaction</span></span>.  <span class='annotation' style='border-color: #2bbf6d'>It picks up everything <span class='aspect'>Performance</span></span>.</p>\n",
       "            </div>\n",
       "        \n",
       "\n",
       "            <div class='container'>\n",
       "                <h5 class='title'>Does the job</h5>\n",
       "                <p class='feedback'><span class='annotation' style='border-color: #2bbf6d'>Very good budget vacuum <span class='aspect'>Overall satisfaction</span></span>. <span class='annotation' style='border-color: #2bbf6d'>Cleans very well <span class='aspect'>Cleaning</span></span>. <span class='annotation' style='border-color: #cf2a43'>Does not fit under the couch <span class='aspect'>Size</span></span> and <span class='annotation' style='border-color: #cf2a43'>I did not think to get a retractable cord, I wish I had <span class='aspect'>Cord</span></span>. But over all, its a very good vacuum cleaner. <span class='annotation' style='border-color: #2bbf6d'>Sucked ups a cup of dirt in seconds that I robot left behind <span class='aspect'>Comparison</span></span>.</p>\n",
       "            </div>\n",
       "        \n",
       "\n",
       "            <div class='container'>\n",
       "                <h5 class='title'>Bissell... Dog hair... Bissell WON!!!</h5>\n",
       "                <p class='feedback'><span class='annotation' style='border-color: #2bbf6d'>It has great suction <span class='aspect'>Suction</span></span> but when it started to suck my sheet up <span class='annotation' style='border-color: #cf2a43'>it started to smoke a little <span class='aspect'>Smoking</span></span>, <span class='annotation' style='border-color: #2bbf6d'>Luckily the sheet was very easy to remove <span class='aspect'>Ease of use</span></span>. The smoke stopped and most like was from the friction of the sheet.</p>\n",
       "            </div>\n",
       "        \n",
       "\n",
       "            <div class='container'>\n",
       "                <h5 class='title'>Great vaccum for the price</h5>\n",
       "                <p class='feedback'>Such great suction on this vacuum. It manages to pickup so much first and hair from my carpets</p>\n",
       "            </div>\n",
       "        \n",
       "\n",
       "            <div class='container'>\n",
       "                <h5 class='title'>Great value</h5>\n",
       "                <p class='feedback'><span class='annotation' style='border-color: #2bbf6d'>I love this <span class='aspect'>Overall satisfaction</span></span>.  I have 2 dogs and it doesn&#x27;t clog up. Fantastic. Best vacuum I&#x27;ve owned</p>\n",
       "            </div>\n",
       "        \n",
       "\n",
       "            <div class='container'>\n",
       "                <h5 class='title'>Práctica y eficiente</h5>\n",
       "                <p class='feedback'><span class='annotation' style='border-color: #2bbf6d'>Trabaja muy bien <span class='aspect'>Overall satisfaction</span></span>, <span class='annotation' style='border-color: #2bbf6d'>fácil de limpiar los filtros <span class='aspect'>Ease of cleaning</span></span>, <span class='annotation' style='border-color: #cf2a43'>no es muy liviana <span class='aspect'>Weight</span></span> pero no afecta al trabajar <span class='annotation' style='border-color: #2bbf6d'>bonito color <span class='aspect'>Appearance</span></span></p>\n",
       "            </div>\n",
       "        \n",
       "\n",
       "            <div class='container'>\n",
       "                <h5 class='title'>Excellent appliance</h5>\n",
       "                <p class='feedback'><span class='annotation' style='border-color: #2bbf6d'>This vacuum is so great <span class='aspect'>Overall satisfaction</span></span> <span class='annotation' style='border-color: #2bbf6d'>even the cleaning lady raves about it <span class='aspect'>Cleaning lady's opinion</span></span>.  <span class='annotation' style='border-color: #2bbf6d'>She has a vacuum but only uses ours <span class='aspect'>Cleaning lady's vacuum</span></span>.</p>\n",
       "            </div>\n",
       "        \n",
       "\n",
       "            <div class='container'>\n",
       "                <h5 class='title'>From a Shark to a Bissell!!!</h5>\n",
       "                <p class='feedback'>I was a shark believer, and i still like their vacuums.  But <span class='annotation' style='border-color: #cf2a43'>after having to replace ours 3 times in the last 5 years <span class='aspect'>Reliability</span></span>, it was time to try something different.  <span class='annotation' style='border-color: #2bbf6d'>This vacuum has surpassed my expectations <span class='aspect'>Performance</span></span> and i love it.  <span class='annotation' style='border-color: #2bbf6d'>i hope it lasts forever! <span class='aspect'>Longevity</span></span></p>\n",
       "            </div>\n",
       "        \n",
       "\n",
       "            <div class='container'>\n",
       "                <h5 class='title'>Práctica y eficiente</h5>\n",
       "                <p class='feedback'><span class='annotation' style='border-color: #2bbf6d'>Trabaja muy bien <span class='aspect'>Overall satisfaction</span></span>, <span class='annotation' style='border-color: #2bbf6d'>fácil de limpiar los filtros <span class='aspect'>Ease of cleaning</span></span>, <span class='annotation' style='border-color: #cf2a43'>no es muy liviana <span class='aspect'>Weight</span></span> pero no afecta al trabajar <span class='annotation' style='border-color: #2bbf6d'>bonito color <span class='aspect'>Appearance</span></span></p>\n",
       "            </div>\n",
       "        \n",
       "\n",
       "            <div class='container'>\n",
       "                <h5 class='title'>I asked for a vacuum cleaner not sheet sucker</h5>\n",
       "                <p class='feedback'>Works great on pet hair</p>\n",
       "            </div>\n",
       "        \n",
       "\n",
       "            <div class='container'>\n",
       "                <h5 class='title'>Bissell CleanView Swivel Pet Reach Vacuum Cleaner</h5>\n",
       "                <p class='feedback'><span class='annotation' style='border-color: #2bbf6d'>Easy to assemble <span class='aspect'>Assembly</span></span>, and <span class='annotation' style='border-color: #2bbf6d'>emptying tank is straight forward <span class='aspect'>Emptying tank</span></span>. Used it to vacuum 1 room, and it filled the tank twice. Very impressed, <span class='annotation' style='border-color: #2bbf6d'>awesome suction <span class='aspect'>Suction</span></span>. <span class='annotation' style='border-color: #2bbf6d'>Hopefully it will last <span class='aspect'>Longevity</span></span>, but so far-so good.</p>\n",
       "            </div>\n",
       "        \n",
       "\n",
       "            <div class='container'>\n",
       "                <h5 class='title'>Great Vaccum!</h5>\n",
       "                <p class='feedback'><span class='annotation' style='border-color: #2bbf6d'>This vacuum works exactly like I wanted it to <span class='aspect'>Overall satisfaction</span></span>.  <span class='annotation' style='border-color: #2bbf6d'>It picks up everything <span class='aspect'>Performance</span></span>.</p>\n",
       "            </div>\n",
       "        \n",
       "\n",
       "            <div class='container'>\n",
       "                <h5 class='title'>Great vaccum for the price</h5>\n",
       "                <p class='feedback'>Such great suction on this vacuum. It manages to pickup so much first and hair from my carpets</p>\n",
       "            </div>\n",
       "        \n",
       "\n",
       "            <div class='container'>\n",
       "                <h5 class='title'>Picks up dog hair on all surfaces</h5>\n",
       "                <p class='feedback'><span class='annotation' style='border-color: #2bbf6d'>Good suction <span class='aspect'>Suction</span></span>, <span class='annotation' style='border-color: #2bbf6d'>picks up dog hair, dirt, hay, etc. <span class='aspect'>Picks up</span></span> <span class='annotation' style='border-color: #2bbf6d'>Easy to empty canister. <span class='aspect'>Canister</span></span> <span class='annotation' style='border-color: #2bbf6d'>Easy to clean filter. <span class='aspect'>Filter</span></span> <span class='annotation' style='border-color: #cf2a43'>Does get clogged, but easy to take apart and unclog, takes no time at all. <span class='aspect'>Clogging</span></span></p>\n",
       "            </div>\n",
       "        "
      ],
      "text/plain": [
       "<IPython.core.display.HTML object>"
      ]
     },
     "metadata": {},
     "output_type": "display_data"
    }
   ],
   "source": [
    "import re\n",
    "from IPython.display import display, HTML\n",
    "from html import escape\n",
    "\n",
    "css = \"\"\"\n",
    "<style>\n",
    "    .container {\n",
    "        background-color: #fff;\n",
    "        padding: 15px\n",
    "    }\n",
    "\n",
    "    p.feedback {\n",
    "        margin-top: 5px;\n",
    "        color: #595f6d;\n",
    "        line-height: 2\n",
    "    }\n",
    "\n",
    "    h5.title {\n",
    "        color: #b6bcc8;\n",
    "        margin: 15px 0 0 0;\n",
    "        padding: 0;\n",
    "        font-style: italic;\n",
    "    }\n",
    "\n",
    "    .annotation {\n",
    "        color: #777;\n",
    "        padding: 2px;\n",
    "        font-weight: bold !important;\n",
    "        border-radius: 1px;\n",
    "        border-bottom: 4px solid;\n",
    "    }\n",
    "\n",
    "    .aspect {\n",
    "        color: #6eb2e7;\n",
    "        padding-left: 10px;\n",
    "        font-size: 12px;\n",
    "    }\n",
    "</style>\n",
    "\"\"\"\n",
    "\n",
    "\n",
    "def ireplace(text, old, new):\n",
    "    pattern = re.compile(old, re.IGNORECASE)\n",
    "    return pattern.sub(new, text)\n",
    "\n",
    "\n",
    "html = f\"{css}\"\n",
    "\n",
    "for i, review in enumerate(df.to_dict(\"records\")):\n",
    "    text = escape(review[\"text\"])\n",
    "\n",
    "    try:\n",
    "        for ann in analysis_results[i]:\n",
    "            color = \"#2bbf6d\" if ann[\"sentiment\"] == \"positive\" else \"#cf2a43\"\n",
    "\n",
    "            text = ireplace(\n",
    "                text,\n",
    "                ann[\"segment\"],\n",
    "                f\"<span class='annotation' style='border-color: {color}'>{escape(ann['segment'])} <span class='aspect'>{ann['aspect']}</span></span>\",\n",
    "            )\n",
    "\n",
    "        html += f\"\"\"\n",
    "\n",
    "            <div class='container'>\n",
    "                <h5 class='title'>{review['title']}</h5>\n",
    "                <p class='feedback'>{text}</p>\n",
    "            </div>\n",
    "        \"\"\"\n",
    "\n",
    "    except Exception as e:\n",
    "        print(f\"Failed to parse {review['title']} {e}\")\n",
    "        continue\n",
    "\n",
    "display(HTML(html))\n"
   ]
  }
 ],
 "metadata": {
  "kernelspec": {
   "display_name": "Python 3 (ipykernel)",
   "language": "python",
   "name": "python3"
  },
  "language_info": {
   "codemirror_mode": {
    "name": "ipython",
    "version": 3
   },
   "file_extension": ".py",
   "mimetype": "text/x-python",
   "name": "python",
   "nbconvert_exporter": "python",
   "pygments_lexer": "ipython3",
   "version": "3.12.1"
  },
  "vscode": {
   "interpreter": {
    "hash": "67b579c5e5e2d0fb46ec1379fbeca811ed4f1aa8f17eceec61a0c644d552daf5"
   }
  }
 },
 "nbformat": 4,
 "nbformat_minor": 4
}
