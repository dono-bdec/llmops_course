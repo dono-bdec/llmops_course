{
 "cells": [
  {
   "cell_type": "markdown",
   "metadata": {},
   "source": [
    "#### Diagram\n",
    "\n",
    "A simple diagram to show the pipeline steps"
   ]
  },
  {
   "cell_type": "code",
   "execution_count": 2,
   "metadata": {},
   "outputs": [],
   "source": [
    "import sys \n",
    "\n",
    "sys.path.insert(0, '..')"
   ]
  },
  {
   "cell_type": "code",
   "execution_count": 4,
   "metadata": {},
   "outputs": [
    {
     "ename": "ModuleNotFoundError",
     "evalue": "No module named 'diagrams'",
     "output_type": "error",
     "traceback": [
      "\u001b[0;31m---------------------------------------------------------------------------\u001b[0m",
      "\u001b[0;31mModuleNotFoundError\u001b[0m                       Traceback (most recent call last)",
      "\u001b[1;32m/Users/michelepangrazzi/workspace/py-gpt3-absa/notebooks/diagrams.ipynb Cell 3\u001b[0m in \u001b[0;36m<cell line: 1>\u001b[0;34m()\u001b[0m\n\u001b[0;32m----> <a href='vscode-notebook-cell:/Users/michelepangrazzi/workspace/py-gpt3-absa/notebooks/diagrams.ipynb#W0sZmlsZQ%3D%3D?line=0'>1</a>\u001b[0m \u001b[39mfrom\u001b[39;00m \u001b[39mdiagrams\u001b[39;00m \u001b[39mimport\u001b[39;00m Diagram\n\u001b[1;32m      <a href='vscode-notebook-cell:/Users/michelepangrazzi/workspace/py-gpt3-absa/notebooks/diagrams.ipynb#W0sZmlsZQ%3D%3D?line=1'>2</a>\u001b[0m \u001b[39mfrom\u001b[39;00m \u001b[39mdiagrams\u001b[39;00m\u001b[39m.\u001b[39;00m\u001b[39maws\u001b[39;00m\u001b[39m.\u001b[39;00m\u001b[39mcompute\u001b[39;00m \u001b[39mimport\u001b[39;00m ECS\n\u001b[1;32m      <a href='vscode-notebook-cell:/Users/michelepangrazzi/workspace/py-gpt3-absa/notebooks/diagrams.ipynb#W0sZmlsZQ%3D%3D?line=2'>3</a>\u001b[0m \u001b[39mfrom\u001b[39;00m \u001b[39mdiagrams\u001b[39;00m\u001b[39m.\u001b[39;00m\u001b[39maws\u001b[39;00m\u001b[39m.\u001b[39;00m\u001b[39mdatabase\u001b[39;00m \u001b[39mimport\u001b[39;00m Redshift\n",
      "\u001b[0;31mModuleNotFoundError\u001b[0m: No module named 'diagrams'"
     ]
    }
   ],
   "source": [
    "from diagrams import Diagram\n",
    "from diagrams.aws.compute import ECS\n",
    "from diagrams.aws.database import Redshift\n",
    "from diagrams.aws.integration import SQS\n",
    "\n",
    "with Diagram(show=True):\n",
    "    scraper = ECS(\"Scraper\")\n",
    "\n",
    "    model = SQS(\"GPT-3 / OpenAI\")\n",
    "\n",
    "    stats = Redshift(\"Stats\")\n",
    "\n",
    "    scraper >> model >> stats"
   ]
  }
 ],
 "metadata": {
  "kernelspec": {
   "display_name": "Python 3.8.12 ('.venv': poetry)",
   "language": "python",
   "name": "python3"
  },
  "language_info": {
   "codemirror_mode": {
    "name": "ipython",
    "version": 3
   },
   "file_extension": ".py",
   "mimetype": "text/x-python",
   "name": "python",
   "nbconvert_exporter": "python",
   "pygments_lexer": "ipython3",
   "version": "3.8.12"
  },
  "orig_nbformat": 4,
  "vscode": {
   "interpreter": {
    "hash": "67b579c5e5e2d0fb46ec1379fbeca811ed4f1aa8f17eceec61a0c644d552daf5"
   }
  }
 },
 "nbformat": 4,
 "nbformat_minor": 2
}
