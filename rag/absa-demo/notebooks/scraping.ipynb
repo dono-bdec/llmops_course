{
 "cells": [
  {
   "cell_type": "markdown",
   "metadata": {},
   "source": [
    "## Scraping playground\n",
    "\n",
    "Here you can play with the Amazon Scrapy spider and see how it works."
   ]
  },
  {
   "cell_type": "code",
   "execution_count": 11,
   "metadata": {},
   "outputs": [],
   "source": [
    "import sys \n",
    "\n",
    "sys.path.insert(0, '..')"
   ]
  },
  {
   "cell_type": "code",
   "execution_count": 12,
   "metadata": {},
   "outputs": [],
   "source": [
    "from pathlib import Path\n",
    "\n",
    "start_url = \"https://www.amazon.com/BISSELL-CleanView-Swivel-Cleaner-Full-Size/product-reviews/B09LNHL7JN/ref=cm_cr_arp_d_viewopt_sr?ie=UTF8&reviewerType=all_reviews&filterByStar=critial&pageNumber=1\"\n",
    "\n",
    "spider_path = Path.cwd() / \"../absa/scraping/amazon.py\"\n",
    "output_path = Path.cwd() / \"feedbacks.csv\""
   ]
  },
  {
   "cell_type": "code",
   "execution_count": 13,
   "metadata": {},
   "outputs": [
    {
     "name": "stdout",
     "output_type": "stream",
     "text": [
      "2022-09-08 22:43:59 [scrapy.utils.log] INFO: Scrapy 2.6.2 started (bot: scrapybot)\n",
      "2022-09-08 22:43:59 [scrapy.utils.log] INFO: Versions: lxml 4.9.1.0, libxml2 2.9.14, cssselect 1.1.0, parsel 1.6.0, w3lib 2.0.1, Twisted 22.4.0, Python 3.8.12 (default, Oct 15 2021, 14:32:11) - [Clang 12.0.5 (clang-1205.0.22.11)], pyOpenSSL 22.0.0 (OpenSSL 3.0.5 5 Jul 2022), cryptography 37.0.4, Platform macOS-12.3-x86_64-i386-64bit\n",
      "2022-09-08 22:43:59 [scrapy.crawler] INFO: Overridden settings:\n",
      "{'CLOSESPIDER_ITEMCOUNT': 25,\n",
      " 'DOWNLOAD_DELAY': 2,\n",
      " 'LOG_LEVEL': 'INFO',\n",
      " 'SPIDER_LOADER_WARN_ONLY': True,\n",
      " 'USER_AGENT': 'Mozilla/5.0 (Macintosh; Intel Mac OS X 10_15_7) '\n",
      "               'AppleWebKit/537.36 (KHTML, like Gecko) Chrome/104.0.0.0 '\n",
      "               'Safari/537.36'}\n",
      "2022-09-08 22:43:59 [scrapy.extensions.telnet] INFO: Telnet Password: 7f532247b84634c6\n",
      "2022-09-08 22:43:59 [scrapy.middleware] INFO: Enabled extensions:\n",
      "['scrapy.extensions.corestats.CoreStats',\n",
      " 'scrapy.extensions.telnet.TelnetConsole',\n",
      " 'scrapy.extensions.memusage.MemoryUsage',\n",
      " 'scrapy.extensions.closespider.CloseSpider',\n",
      " 'scrapy.extensions.feedexport.FeedExporter',\n",
      " 'scrapy.extensions.logstats.LogStats']\n",
      "2022-09-08 22:43:59 [scrapy.middleware] INFO: Enabled downloader middlewares:\n",
      "['scrapy.downloadermiddlewares.httpauth.HttpAuthMiddleware',\n",
      " 'scrapy.downloadermiddlewares.downloadtimeout.DownloadTimeoutMiddleware',\n",
      " 'scrapy.downloadermiddlewares.defaultheaders.DefaultHeadersMiddleware',\n",
      " 'scrapy.downloadermiddlewares.useragent.UserAgentMiddleware',\n",
      " 'scrapy.downloadermiddlewares.retry.RetryMiddleware',\n",
      " 'scrapy.downloadermiddlewares.redirect.MetaRefreshMiddleware',\n",
      " 'scrapy.downloadermiddlewares.httpcompression.HttpCompressionMiddleware',\n",
      " 'scrapy.downloadermiddlewares.redirect.RedirectMiddleware',\n",
      " 'scrapy.downloadermiddlewares.cookies.CookiesMiddleware',\n",
      " 'scrapy.downloadermiddlewares.httpproxy.HttpProxyMiddleware',\n",
      " 'scrapy.downloadermiddlewares.stats.DownloaderStats']\n",
      "2022-09-08 22:43:59 [scrapy.middleware] INFO: Enabled spider middlewares:\n",
      "['scrapy.spidermiddlewares.httperror.HttpErrorMiddleware',\n",
      " 'scrapy.spidermiddlewares.offsite.OffsiteMiddleware',\n",
      " 'scrapy.spidermiddlewares.referer.RefererMiddleware',\n",
      " 'scrapy.spidermiddlewares.urllength.UrlLengthMiddleware',\n",
      " 'scrapy.spidermiddlewares.depth.DepthMiddleware']\n",
      "2022-09-08 22:43:59 [scrapy.middleware] INFO: Enabled item pipelines:\n",
      "[]\n",
      "2022-09-08 22:43:59 [scrapy.core.engine] INFO: Spider opened\n",
      "2022-09-08 22:43:59 [scrapy.extensions.logstats] INFO: Crawled 0 pages (at 0 pages/min), scraped 0 items (at 0 items/min)\n",
      "2022-09-08 22:43:59 [scrapy.extensions.telnet] INFO: Telnet console listening on 127.0.0.1:6023\n",
      "2022-09-08 22:44:05 [scrapy.core.engine] INFO: Closing spider (closespider_itemcount)\n",
      "2022-09-08 22:44:05 [scrapy.extensions.feedexport] INFO: Stored csv feed (30 items) in: /Users/michelepangrazzi/workspace/py-gpt3-absa/notebooks/feedbacks.csv\n",
      "2022-09-08 22:44:05 [scrapy.statscollectors] INFO: Dumping Scrapy stats:\n",
      "{'downloader/request_bytes': 1999,\n",
      " 'downloader/request_count': 3,\n",
      " 'downloader/request_method_count/GET': 3,\n",
      " 'downloader/response_bytes': 288184,\n",
      " 'downloader/response_count': 3,\n",
      " 'downloader/response_status_count/200': 3,\n",
      " 'elapsed_time_seconds': 6.097323,\n",
      " 'feedexport/success_count/FileFeedStorage': 1,\n",
      " 'finish_reason': 'closespider_itemcount',\n",
      " 'finish_time': datetime.datetime(2022, 9, 8, 20, 44, 5, 704551),\n",
      " 'httpcompression/response_bytes': 1031108,\n",
      " 'httpcompression/response_count': 3,\n",
      " 'item_scraped_count': 30,\n",
      " 'log_count/INFO': 11,\n",
      " 'memusage/max': 60366848,\n",
      " 'memusage/startup': 60366848,\n",
      " 'request_depth_max': 3,\n",
      " 'response_received_count': 3,\n",
      " 'scheduler/dequeued': 3,\n",
      " 'scheduler/dequeued/memory': 3,\n",
      " 'scheduler/enqueued': 4,\n",
      " 'scheduler/enqueued/memory': 4,\n",
      " 'start_time': datetime.datetime(2022, 9, 8, 20, 43, 59, 607228)}\n",
      "2022-09-08 22:44:05 [scrapy.core.engine] INFO: Spider closed (closespider_itemcount)\n"
     ]
    }
   ],
   "source": [
    "!scrapy runspider {scraper_path} -o {output_path} -a start_url='{start_url}'"
   ]
  }
 ],
 "metadata": {
  "kernelspec": {
   "display_name": "Python 3 (ipykernel)",
   "language": "python",
   "name": "python3"
  },
  "language_info": {
   "codemirror_mode": {
    "name": "ipython",
    "version": 3
   },
   "file_extension": ".py",
   "mimetype": "text/x-python",
   "name": "python",
   "nbconvert_exporter": "python",
   "pygments_lexer": "ipython3",
   "version": "3.12.1"
  },
  "vscode": {
   "interpreter": {
    "hash": "67b579c5e5e2d0fb46ec1379fbeca811ed4f1aa8f17eceec61a0c644d552daf5"
   }
  }
 },
 "nbformat": 4,
 "nbformat_minor": 4
}
