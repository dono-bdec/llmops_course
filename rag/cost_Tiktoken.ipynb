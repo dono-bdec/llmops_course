{
 "cells": [
  {
   "cell_type": "code",
   "execution_count": 1,
   "id": "a2576ea5-c8d2-4653-9ad3-2e530aa0f5d4",
   "metadata": {},
   "outputs": [
    {
     "name": "stdout",
     "output_type": "stream",
     "text": [
      "Requirement already satisfied: openai in c:\\users\\fahim\\appdata\\local\\programs\\python\\python311\\lib\\site-packages (1.2.4)\n",
      "Requirement already satisfied: tiktoken in c:\\users\\fahim\\appdata\\local\\programs\\python\\python311\\lib\\site-packages (0.5.1)\n",
      "Requirement already satisfied: anyio<4,>=3.5.0 in c:\\users\\fahim\\appdata\\local\\programs\\python\\python311\\lib\\site-packages (from openai) (3.7.1)\n",
      "Requirement already satisfied: distro<2,>=1.7.0 in c:\\users\\fahim\\appdata\\local\\programs\\python\\python311\\lib\\site-packages (from openai) (1.8.0)\n",
      "Requirement already satisfied: httpx<1,>=0.23.0 in c:\\users\\fahim\\appdata\\local\\programs\\python\\python311\\lib\\site-packages (from openai) (0.25.1)\n",
      "Requirement already satisfied: pydantic<3,>=1.9.0 in c:\\users\\fahim\\appdata\\local\\programs\\python\\python311\\lib\\site-packages (from openai) (2.4.2)\n",
      "Requirement already satisfied: tqdm>4 in c:\\users\\fahim\\appdata\\local\\programs\\python\\python311\\lib\\site-packages (from openai) (4.66.1)\n",
      "Requirement already satisfied: typing-extensions<5,>=4.5 in c:\\users\\fahim\\appdata\\local\\programs\\python\\python311\\lib\\site-packages (from openai) (4.8.0)\n",
      "Requirement already satisfied: regex>=2022.1.18 in c:\\users\\fahim\\appdata\\local\\programs\\python\\python311\\lib\\site-packages (from tiktoken) (2023.10.3)\n",
      "Requirement already satisfied: requests>=2.26.0 in c:\\users\\fahim\\appdata\\local\\programs\\python\\python311\\lib\\site-packages (from tiktoken) (2.31.0)\n",
      "Requirement already satisfied: idna>=2.8 in c:\\users\\fahim\\appdata\\local\\programs\\python\\python311\\lib\\site-packages (from anyio<4,>=3.5.0->openai) (3.4)\n",
      "Requirement already satisfied: sniffio>=1.1 in c:\\users\\fahim\\appdata\\local\\programs\\python\\python311\\lib\\site-packages (from anyio<4,>=3.5.0->openai) (1.3.0)\n",
      "Requirement already satisfied: certifi in c:\\users\\fahim\\appdata\\local\\programs\\python\\python311\\lib\\site-packages (from httpx<1,>=0.23.0->openai) (2023.7.22)\n",
      "Requirement already satisfied: httpcore in c:\\users\\fahim\\appdata\\local\\programs\\python\\python311\\lib\\site-packages (from httpx<1,>=0.23.0->openai) (1.0.2)\n",
      "Requirement already satisfied: annotated-types>=0.4.0 in c:\\users\\fahim\\appdata\\local\\programs\\python\\python311\\lib\\site-packages (from pydantic<3,>=1.9.0->openai) (0.5.0)\n",
      "Requirement already satisfied: pydantic-core==2.10.1 in c:\\users\\fahim\\appdata\\local\\programs\\python\\python311\\lib\\site-packages (from pydantic<3,>=1.9.0->openai) (2.10.1)\n",
      "Requirement already satisfied: charset-normalizer<4,>=2 in c:\\users\\fahim\\appdata\\local\\programs\\python\\python311\\lib\\site-packages (from requests>=2.26.0->tiktoken) (3.3.0)\n",
      "Requirement already satisfied: urllib3<3,>=1.21.1 in c:\\users\\fahim\\appdata\\local\\programs\\python\\python311\\lib\\site-packages (from requests>=2.26.0->tiktoken) (2.0.5)\n",
      "Requirement already satisfied: colorama in c:\\users\\fahim\\appdata\\local\\programs\\python\\python311\\lib\\site-packages (from tqdm>4->openai) (0.4.6)\n",
      "Requirement already satisfied: h11<0.15,>=0.13 in c:\\users\\fahim\\appdata\\local\\programs\\python\\python311\\lib\\site-packages (from httpcore->httpx<1,>=0.23.0->openai) (0.14.0)\n",
      "Note: you may need to restart the kernel to use updated packages.\n"
     ]
    },
    {
     "name": "stderr",
     "output_type": "stream",
     "text": [
      "\n",
      "[notice] A new release of pip is available: 23.2.1 -> 23.3.1\n",
      "[notice] To update, run: python.exe -m pip install --upgrade pip\n"
     ]
    }
   ],
   "source": [
    "pip install openai tiktoken"
   ]
  },
  {
   "cell_type": "code",
   "execution_count": 2,
   "id": "fe8be88a-4b57-478d-ae27-3104bf0d8af5",
   "metadata": {},
   "outputs": [],
   "source": [
    "import os"
   ]
  },
  {
   "cell_type": "code",
   "execution_count": 3,
   "id": "3cecf60f-e522-4ceb-8ec6-96502e9b21ce",
   "metadata": {},
   "outputs": [],
   "source": [
    "from openai import OpenAI\n",
    "OpenAI.api_key = os.getenv('OPENAI_API_KEY')\n",
    "client = OpenAI()"
   ]
  },
  {
   "cell_type": "code",
   "execution_count": 4,
   "id": "4c08a905-7906-487b-aa64-36dba84df022",
   "metadata": {},
   "outputs": [],
   "source": [
    "import tiktoken"
   ]
  },
  {
   "cell_type": "code",
   "execution_count": 5,
   "id": "5f1e20bc-38ea-4563-aeee-bb08516538fb",
   "metadata": {},
   "outputs": [],
   "source": [
    "enc = tiktoken.encoding_for_model(\"gpt-3.5-turbo\")"
   ]
  },
  {
   "cell_type": "code",
   "execution_count": 6,
   "id": "40521df0-eaab-4f69-89e5-0cbe257a5a83",
   "metadata": {},
   "outputs": [],
   "source": [
    "total_tokens = len(enc.encode(\"This is test!\"))"
   ]
  },
  {
   "cell_type": "code",
   "execution_count": 7,
   "id": "b678e7fe-e3ba-4d81-b747-d18754347d88",
   "metadata": {},
   "outputs": [
    {
     "name": "stdout",
     "output_type": "stream",
     "text": [
      "4\n"
     ]
    }
   ],
   "source": [
    "print(total_tokens)"
   ]
  },
  {
   "cell_type": "code",
   "execution_count": 9,
   "id": "9d36b0ec-7b26-4b31-a843-eb2208d83bc9",
   "metadata": {},
   "outputs": [],
   "source": [
    "cost = total_tokens * (.0015/1000)"
   ]
  },
  {
   "cell_type": "code",
   "execution_count": 10,
   "id": "ae0ab014-d830-43ca-9c25-f2ccb04c7308",
   "metadata": {},
   "outputs": [
    {
     "name": "stdout",
     "output_type": "stream",
     "text": [
      "Estimated cost $0.00000600\n"
     ]
    }
   ],
   "source": [
    "print(f\"Estimated cost ${cost:.8f}\")"
   ]
  },
  {
   "cell_type": "code",
   "execution_count": 11,
   "id": "8111db22-a073-458c-a2ce-ebea4136ce76",
   "metadata": {},
   "outputs": [],
   "source": [
    "Life_text = \"\"\"\n",
    "Life is an incredibly diverse and complex phenomenon that can be found in many forms on Earth. It encompasses all living organisms, from microscopic bacteria to towering trees and majestic animals. Life is characterized by various biological processes such as growth, reproduction, metabolism, and response to stimuli. It is also deeply interconnected, with each organism and species playing a vital role in the overall balance and functioning of ecosystems. Life can be found in the most extreme environments, adapting and surviving in conditions that would seem impossible. It is a constant journey of evolution and adaptation, where species continually change and diversify over millions of years. Ultimately, life is a precious and fragile gift that should be cherished and protected.\n",
    "\"\"\""
   ]
  },
  {
   "cell_type": "code",
   "execution_count": 12,
   "id": "d1db166f-d64c-45d9-9aea-f82535d0fbe8",
   "metadata": {},
   "outputs": [
    {
     "data": {
      "text/plain": [
       "137"
      ]
     },
     "execution_count": 12,
     "metadata": {},
     "output_type": "execute_result"
    }
   ],
   "source": [
    "len(enc.encode(Life_text))"
   ]
  },
  {
   "cell_type": "code",
   "execution_count": 13,
   "id": "f43ced5c-baf8-47af-ab36-e5eeb40eb076",
   "metadata": {},
   "outputs": [],
   "source": [
    "total_tokens = len(enc.encode(Life_text))"
   ]
  },
  {
   "cell_type": "code",
   "execution_count": 14,
   "id": "0426d7b5-556a-4673-96db-37fb45f751f1",
   "metadata": {},
   "outputs": [],
   "source": [
    "cost = total_tokens * (.0015/1000)"
   ]
  },
  {
   "cell_type": "code",
   "execution_count": 15,
   "id": "5eda2a5b-574d-4940-9226-cb309a42604a",
   "metadata": {},
   "outputs": [
    {
     "name": "stdout",
     "output_type": "stream",
     "text": [
      "Estimated cost $0.00020550\n"
     ]
    }
   ],
   "source": [
    "print(f\"Estimated cost ${cost:.8f}\")"
   ]
  }
 ],
 "metadata": {
  "kernelspec": {
   "display_name": "Python 3 (ipykernel)",
   "language": "python",
   "name": "python3"
  },
  "language_info": {
   "codemirror_mode": {
    "name": "ipython",
    "version": 3
   },
   "file_extension": ".py",
   "mimetype": "text/x-python",
   "name": "python",
   "nbconvert_exporter": "python",
   "pygments_lexer": "ipython3",
   "version": "3.12.1"
  }
 },
 "nbformat": 4,
 "nbformat_minor": 5
}
